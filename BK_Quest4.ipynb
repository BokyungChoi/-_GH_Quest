{
 "cells": [
  {
   "cell_type": "markdown",
   "metadata": {},
   "source": [
    "### 1_SELENIUM"
   ]
  },
  {
   "cell_type": "code",
   "execution_count": 1,
   "metadata": {},
   "outputs": [],
   "source": [
    "from selenium import webdriver\n",
    "import time\n",
    "import requests\n",
    "from selenium.webdriver.common.keys import Keys\n",
    "from bs4 import BeautifulSoup as bs"
   ]
  },
  {
   "cell_type": "code",
   "execution_count": 2,
   "metadata": {},
   "outputs": [],
   "source": [
    "#크롬드라이버 경로 지정\n",
    "path = 'C:\\chromedriver_win32\\chromedriver.exe' \n",
    "\n",
    "#크롬 팝업\n",
    "driver = webdriver.Chrome(path)\n",
    "\n",
    "#로딩 대기\n",
    "driver.implicitly_wait(2) "
   ]
  },
  {
   "cell_type": "code",
   "execution_count": 3,
   "metadata": {},
   "outputs": [],
   "source": [
    "button_list=[118,232,341,431,526,622,708]    "
   ]
  },
  {
   "cell_type": "code",
   "execution_count": 4,
   "metadata": {},
   "outputs": [],
   "source": [
    "#해당 웹사이트로 이동\n",
    "driver.get(\"http://www.kobis.or.kr/kobis/business/stat/boxs/findDailyBoxOfficeList.do?loadEnd=0&searchType=search&sSearchFrom=2019-03-17&sSearchTo=2019-03-24&sMultiMovieYn=&sRepNationCd=&sWideAreaCd=\")\n",
    "\n",
    "#크롤링한 웹사이트 접속\n",
    "driver.implicitly_wait(3)\n",
    "\n",
    "for i in button_list:\n",
    "\n",
    "    n=0\n",
    "    while n<4:\n",
    "        #들어온 후 10위씩 확장\n",
    "        driver.find_element_by_id(\"btn_%s\"%i).click() \n",
    "        #로딩 대기\n",
    "        driver.implicitly_wait(3)\n",
    "        #횟수 반복\n",
    "        n+=1\n",
    "\n",
    "#7일 전부 50위로 확장한 현재 렌더링된 페이지에서 모든 정보를 daily_box_office_html로 가져옴\n",
    "weekly_boxoffice_html=driver.page_source \n",
    "\n",
    "#크롬 닫기\n",
    "driver.quit()"
   ]
  },
  {
   "cell_type": "code",
   "execution_count": 5,
   "metadata": {},
   "outputs": [],
   "source": [
    "weekly_movie_list=[]\n",
    "for i in button_list:\n",
    "    #html으로 가져온 것을 모두 parsing\n",
    "    parsed_daily_boxoffice_html = bs(weekly_boxoffice_html, 'html.parser')\n",
    "\n",
    "    #parsing된 것들 중 'tbody'를 추출\n",
    "    daily_boxoffice = parsed_daily_boxoffice_html.find(\"tbody\", {\"id\":\"tbody_%s\"%i})\n",
    "\n",
    "    # tbody에서 'tr' 추출하여 정보 저장\n",
    "    weekly_movie_list.append(daily_boxoffice.find_all(\"tr\"))\n",
    "    "
   ]
  },
  {
   "cell_type": "code",
   "execution_count": 6,
   "metadata": {},
   "outputs": [],
   "source": [
    "#정보 저장해둔 movie_list에서 필요한 항목들을 구분해낸다.\n",
    "import pandas as pd\n",
    "\n",
    "daily_movies = {'영화명' : [],\n",
    "'순위 변동' : [],\n",
    "'개봉일' : [],\n",
    "'매출액' : [],\n",
    "'매출액점유율' : [],\n",
    "'관객수' : [],\n",
    "'누적관객수' : [],\n",
    "'스크린수' : [],\n",
    "'상영횟수' : []}\n",
    "\n",
    "frames=[]\n",
    "for week in weekly_movie_list:\n",
    "    for movie in week:\n",
    "        title_rank = movie.find(\"td\").find_next_sibling(\"td\").text\n",
    "        daily_movies['영화명'].append(title_rank[:-5].strip())\n",
    "        daily_movies['순위 변동'].append(title_rank[-4:].strip())\n",
    "        daily_movies['개봉일'].append(movie.find(\"td\").find_next_sibling(\"td\").find_next_sibling(\"td\").text.strip())\n",
    "        daily_movies['매출액'].append(movie.find(\"td\").find_next_sibling(\"td\").find_next_sibling(\"td\").find_next_sibling(\"td\").text.strip())\n",
    "        daily_movies['매출액점유율'].append(movie.find(\"td\").find_next_sibling(\"td\").find_next_sibling(\"td\").find_next_sibling(\"td\").find_next_sibling(\"td\").text.strip())\n",
    "        daily_movies['관객수'].append(movie.find(\"td\").find_next_sibling(\"td\").find_next_sibling(\"td\").find_next_sibling(\"td\").find_next_sibling(\"td\").find_next_sibling(\"td\").find_next_sibling(\"td\").find_next_sibling(\"td\").text.strip())\n",
    "        daily_movies['누적관객수'].append(movie.find(\"td\").find_next_sibling(\"td\").find_next_sibling(\"td\").find_next_sibling(\"td\").find_next_sibling(\"td\").find_next_sibling(\"td\").find_next_sibling(\"td\").find_next_sibling(\"td\").find_next_sibling(\"td\").find_next_sibling(\"td\").text.strip())\n",
    "        daily_movies['스크린수'].append(movie.find(\"td\").find_next_sibling(\"td\").find_next_sibling(\"td\").find_next_sibling(\"td\").find_next_sibling(\"td\").find_next_sibling(\"td\").find_next_sibling(\"td\").find_next_sibling(\"td\").find_next_sibling(\"td\").find_next_sibling(\"td\").find_next_sibling(\"td\").text.strip())\n",
    "        daily_movies['상영횟수'].append(movie.find(\"td\").find_next_sibling(\"td\").find_next_sibling(\"td\").find_next_sibling(\"td\").find_next_sibling(\"td\").find_next_sibling(\"td\").find_next_sibling(\"td\").find_next_sibling(\"td\").find_next_sibling(\"td\").find_next_sibling(\"td\").find_next_sibling(\"td\").find_next_sibling(\"td\").text.strip())\n",
    "\n",
    "#50x7일 전체를 데이터프레임화\n",
    "weekly_boxoffice = pd.DataFrame(daily_movies) "
   ]
  },
  {
   "cell_type": "code",
   "execution_count": 7,
   "metadata": {},
   "outputs": [
    {
     "data": {
      "text/html": [
       "<div>\n",
       "<style scoped>\n",
       "    .dataframe tbody tr th:only-of-type {\n",
       "        vertical-align: middle;\n",
       "    }\n",
       "\n",
       "    .dataframe tbody tr th {\n",
       "        vertical-align: top;\n",
       "    }\n",
       "\n",
       "    .dataframe thead th {\n",
       "        text-align: right;\n",
       "    }\n",
       "</style>\n",
       "<table border=\"1\" class=\"dataframe\">\n",
       "  <thead>\n",
       "    <tr style=\"text-align: right;\">\n",
       "      <th></th>\n",
       "      <th>개봉일</th>\n",
       "      <th>관객수</th>\n",
       "      <th>누적관객수</th>\n",
       "      <th>매출액</th>\n",
       "      <th>매출액점유율</th>\n",
       "      <th>상영횟수</th>\n",
       "      <th>순위 변동</th>\n",
       "      <th>스크린수</th>\n",
       "      <th>영화명</th>\n",
       "    </tr>\n",
       "  </thead>\n",
       "  <tbody>\n",
       "    <tr>\n",
       "      <th>0</th>\n",
       "      <td>2019-03-20</td>\n",
       "      <td>480,713</td>\n",
       "      <td>1,120,228</td>\n",
       "      <td>4,347,856,286</td>\n",
       "      <td>59.0%</td>\n",
       "      <td>7,486</td>\n",
       "      <td>0</td>\n",
       "      <td>1,410</td>\n",
       "      <td>돈</td>\n",
       "    </tr>\n",
       "    <tr>\n",
       "      <th>1</th>\n",
       "      <td>2019-03-06</td>\n",
       "      <td>178,487</td>\n",
       "      <td>5,090,427</td>\n",
       "      <td>1,621,661,501</td>\n",
       "      <td>22.0%</td>\n",
       "      <td>3,821</td>\n",
       "      <td>0</td>\n",
       "      <td>938</td>\n",
       "      <td>캡틴 마블</td>\n",
       "    </tr>\n",
       "    <tr>\n",
       "      <th>2</th>\n",
       "      <td>2019-03-20</td>\n",
       "      <td>50,107</td>\n",
       "      <td>143,015</td>\n",
       "      <td>459,773,175</td>\n",
       "      <td>6.2%</td>\n",
       "      <td>2,676</td>\n",
       "      <td>0</td>\n",
       "      <td>731</td>\n",
       "      <td>악질경찰</td>\n",
       "    </tr>\n",
       "    <tr>\n",
       "      <th>3</th>\n",
       "      <td>2019-03-20</td>\n",
       "      <td>32,698</td>\n",
       "      <td>109,754</td>\n",
       "      <td>294,901,025</td>\n",
       "      <td>4.0%</td>\n",
       "      <td>2,052</td>\n",
       "      <td>0</td>\n",
       "      <td>675</td>\n",
       "      <td>우상</td>\n",
       "    </tr>\n",
       "    <tr>\n",
       "      <th>4</th>\n",
       "      <td>2019-03-14</td>\n",
       "      <td>27,842</td>\n",
       "      <td>520,968</td>\n",
       "      <td>253,327,669</td>\n",
       "      <td>3.4%</td>\n",
       "      <td>1,067</td>\n",
       "      <td>0</td>\n",
       "      <td>496</td>\n",
       "      <td>이스케이프 룸</td>\n",
       "    </tr>\n",
       "    <tr>\n",
       "      <th>5</th>\n",
       "      <td>2019-03-21</td>\n",
       "      <td>9,775</td>\n",
       "      <td>11,014</td>\n",
       "      <td>75,837,650</td>\n",
       "      <td>1.0%</td>\n",
       "      <td>478</td>\n",
       "      <td>8</td>\n",
       "      <td>354</td>\n",
       "      <td>정글북: 마법 원정대</td>\n",
       "    </tr>\n",
       "    <tr>\n",
       "      <th>6</th>\n",
       "      <td>2019-03-21</td>\n",
       "      <td>7,306</td>\n",
       "      <td>19,048</td>\n",
       "      <td>67,392,050</td>\n",
       "      <td>0.9%</td>\n",
       "      <td>147</td>\n",
       "      <td>-1</td>\n",
       "      <td>90</td>\n",
       "      <td>페이트 스테이 나이트 헤븐즈필 제2장 로스트 버터플라이</td>\n",
       "    </tr>\n",
       "    <tr>\n",
       "      <th>7</th>\n",
       "      <td>2019-01-09</td>\n",
       "      <td>3,802</td>\n",
       "      <td>406,569</td>\n",
       "      <td>27,736,410</td>\n",
       "      <td>0.4%</td>\n",
       "      <td>89</td>\n",
       "      <td>2</td>\n",
       "      <td>57</td>\n",
       "      <td>그린 북</td>\n",
       "    </tr>\n",
       "    <tr>\n",
       "      <th>8</th>\n",
       "      <td>2019-03-14</td>\n",
       "      <td>3,801</td>\n",
       "      <td>90,131</td>\n",
       "      <td>32,349,160</td>\n",
       "      <td>0.4%</td>\n",
       "      <td>172</td>\n",
       "      <td>-1</td>\n",
       "      <td>103</td>\n",
       "      <td>라스트 미션</td>\n",
       "    </tr>\n",
       "    <tr>\n",
       "      <th>9</th>\n",
       "      <td>2019-03-27</td>\n",
       "      <td>2,970</td>\n",
       "      <td>5,367</td>\n",
       "      <td>27,681,850</td>\n",
       "      <td>0.4%</td>\n",
       "      <td>17</td>\n",
       "      <td>-3</td>\n",
       "      <td>16</td>\n",
       "      <td>장난스런 키스</td>\n",
       "    </tr>\n",
       "  </tbody>\n",
       "</table>\n",
       "</div>"
      ],
      "text/plain": [
       "          개봉일      관객수      누적관객수            매출액 매출액점유율   상영횟수 순위 변동   스크린수  \\\n",
       "0  2019-03-20  480,713  1,120,228  4,347,856,286  59.0%  7,486     0  1,410   \n",
       "1  2019-03-06  178,487  5,090,427  1,621,661,501  22.0%  3,821     0    938   \n",
       "2  2019-03-20   50,107    143,015    459,773,175   6.2%  2,676     0    731   \n",
       "3  2019-03-20   32,698    109,754    294,901,025   4.0%  2,052     0    675   \n",
       "4  2019-03-14   27,842    520,968    253,327,669   3.4%  1,067     0    496   \n",
       "5  2019-03-21    9,775     11,014     75,837,650   1.0%    478     8    354   \n",
       "6  2019-03-21    7,306     19,048     67,392,050   0.9%    147    -1     90   \n",
       "7  2019-01-09    3,802    406,569     27,736,410   0.4%     89     2     57   \n",
       "8  2019-03-14    3,801     90,131     32,349,160   0.4%    172    -1    103   \n",
       "9  2019-03-27    2,970      5,367     27,681,850   0.4%     17    -3     16   \n",
       "\n",
       "                              영화명  \n",
       "0                               돈  \n",
       "1                           캡틴 마블  \n",
       "2                            악질경찰  \n",
       "3                              우상  \n",
       "4                         이스케이프 룸  \n",
       "5                     정글북: 마법 원정대  \n",
       "6  페이트 스테이 나이트 헤븐즈필 제2장 로스트 버터플라이  \n",
       "7                            그린 북  \n",
       "8                          라스트 미션  \n",
       "9                         장난스런 키스  "
      ]
     },
     "execution_count": 7,
     "metadata": {},
     "output_type": "execute_result"
    }
   ],
   "source": [
    "# 전체 데이터프레임에서 순위 변동 칼럼 수치화\n",
    "def change_rank(rank):\n",
    "    if rank == \"동일\":\n",
    "        rank = 0\n",
    "    elif rank[-2:] == \"하락\":\n",
    "        rank = int(rank[:-2]) * -1\n",
    "    elif rank[-2:] == \"상승\":\n",
    "        rank = int(rank[:-2]) * 1\n",
    "    return rank\n",
    "\n",
    "weekly_boxoffice['순위 변동'] = weekly_boxoffice['순위 변동'].map(lambda x: change_rank(x))\n",
    "weekly_boxoffice.head(10)"
   ]
  },
  {
   "cell_type": "code",
   "execution_count": 8,
   "metadata": {},
   "outputs": [
    {
     "data": {
      "text/plain": [
       "True"
      ]
     },
     "execution_count": 8,
     "metadata": {},
     "output_type": "execute_result"
    }
   ],
   "source": [
    "#일별로 잘라내기\n",
    "day1_df=weekly_boxoffice.loc[0:49]\n",
    "day2_df=weekly_boxoffice.loc[50:99]\n",
    "day3_df=weekly_boxoffice.loc[100:149]\n",
    "day4_df=weekly_boxoffice.loc[150:199]\n",
    "day5_df=weekly_boxoffice.loc[200:249]\n",
    "day6_df=weekly_boxoffice.loc[250:299]\n",
    "day7_df=weekly_boxoffice.loc[300:349]\n",
    "\n",
     {
   "cell_type": "markdown",
   "metadata": {},
   "source": [
    "### 2_"
   ]
  }
    "#균등히 잘렸는지 확인\n",
    "day1_df.shape==day2_df.shape==day3_df.shape==day4_df.shape==day5_df.shape==day6_df.shape==day7_df.shape"
   ]
  },
  {
   "cell_type": "code",
   "execution_count": 9,
   "metadata": {},
   "outputs": [],
   "source": [
    "#reset index\n",
    "day1_df.reset_index(drop=True,inplace=True)\n",
    "day2_df.reset_index(drop=True,inplace=True)\n",
    "day3_df.reset_index(drop=True,inplace=True)\n",
    "day4_df.reset_index(drop=True,inplace=True)\n",
    "day5_df.reset_index(drop=True,inplace=True)\n",
    "day6_df.reset_index(drop=True,inplace=True)\n",
    "day7_df.reset_index(drop=True,inplace=True)"
   ]
  },
  {
   "cell_type": "markdown",
   "metadata": {},
   "source": [
    "### 2_SQLITE"
   ]
  },
  {
   "cell_type": "code",
   "execution_count": 10,
   "metadata": {},
   "outputs": [],
   "source": [
    "import sqlite3\n",
    "#weekly_boxoffice의 이름으로 연결\n",
    "con = sqlite3.connect(\"weekly_boxoffice.db\")\n",
    "\n",
    "#내부에 day1-7의 테이블 생성\n",
    "for i in range(1,8):\n",
    "    con.execute(\"CREATE TABLE IF NOT EXISTS day%s(title text, rank int, open text, earning int, earning_share text, audiences int, total_audiences int, num_screen int, num_play int)\"%i)\n"
   ]
  },
  {
   "cell_type": "code",
   "execution_count": 11,
   "metadata": {},
   "outputs": [
    {
     "name": "stderr",
     "output_type": "stream",
     "text": [
      "C:\\Anaconda\\lib\\site-packages\\pandas\\core\\generic.py:1534: UserWarning: The spaces in these column names will not be changed. In pandas versions < 0.14, spaces were converted to underscores.\n",
      "  chunksize=chunksize, dtype=dtype)\n"
     ]
    }
   ],
   "source": [
    "#각 생성된 테이블에 dataframe 저장\n",
    "day1_df.to_sql(\"day1\", con, chunksize=1000,if_exists='replace')\n",
    "day2_df.to_sql(\"day2\", con, chunksize=1000,if_exists='replace')\n",
    "day3_df.to_sql(\"day3\", con, chunksize=1000,if_exists='replace')\n",
    "day4_df.to_sql(\"day4\", con, chunksize=1000,if_exists='replace')\n",
    "day5_df.to_sql(\"day5\", con, chunksize=1000,if_exists='replace')\n",
    "day6_df.to_sql(\"day6\", con, chunksize=1000,if_exists='replace')\n",
    "day7_df.to_sql(\"day7\", con, chunksize=1000,if_exists='replace')"
   ]
  },
  {
   "cell_type": "code",
   "execution_count": 12,
   "metadata": {},
   "outputs": [],
   "source": [
    "con.commit()\n",
    "\n",
    "con.close()"
   ]
  }
 ],
 "metadata": {
  "kernelspec": {
   "display_name": "Python 3",
   "language": "python",
   "name": "python3"
  },
  "language_info": {
   "codemirror_mode": {
    "name": "ipython",
    "version": 3
   },
   "file_extension": ".py",
   "mimetype": "text/x-python",
   "name": "python",
   "nbconvert_exporter": "python",
   "pygments_lexer": "ipython3",
   "version": "3.6.4"
  }
 },
 "nbformat": 4,
 "nbformat_minor": 2
}
