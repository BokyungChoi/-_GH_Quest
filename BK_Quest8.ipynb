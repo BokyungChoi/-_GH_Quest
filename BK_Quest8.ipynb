{
 "cells": [
  {
   "cell_type": "markdown",
   "metadata": {},
   "source": [
    "### 0_Data load & Standardization"
   ]
  },
  {
   "cell_type": "code",
   "execution_count": 1,
   "metadata": {},
   "outputs": [],
   "source": [
    "import pandas as pd\n",
    "import numpy as np"
   ]
  },
  {
   "cell_type": "code",
   "execution_count": 2,
   "metadata": {
    "scrolled": true
   },
   "outputs": [],
   "source": [
    "from sklearn.datasets import load_breast_cancer\n",
    "import matplotlib.pyplot as plt\n",
    "from sklearn import preprocessing\n",
    "import mglearn\n",
    "brt_cancer = load_breast_cancer()"
   ]
  },
  {
   "cell_type": "code",
   "execution_count": 3,
   "metadata": {
    "scrolled": true
   },
   "outputs": [
    {
     "data": {
      "text/html": [
       "<div>\n",
       "<style scoped>\n",
       "    .dataframe tbody tr th:only-of-type {\n",
       "        vertical-align: middle;\n",
       "    }\n",
       "\n",
       "    .dataframe tbody tr th {\n",
       "        vertical-align: top;\n",
       "    }\n",
       "\n",
       "    .dataframe thead th {\n",
       "        text-align: right;\n",
       "    }\n",
       "</style>\n",
       "<table border=\"1\" class=\"dataframe\">\n",
       "  <thead>\n",
       "    <tr style=\"text-align: right;\">\n",
       "      <th></th>\n",
       "      <th>mean radius</th>\n",
       "      <th>mean texture</th>\n",
       "    </tr>\n",
       "  </thead>\n",
       "  <tbody>\n",
       "    <tr>\n",
       "      <th>0</th>\n",
       "      <td>17.99</td>\n",
       "      <td>10.38</td>\n",
       "    </tr>\n",
       "    <tr>\n",
       "      <th>1</th>\n",
       "      <td>20.57</td>\n",
       "      <td>17.77</td>\n",
       "    </tr>\n",
       "    <tr>\n",
       "      <th>2</th>\n",
       "      <td>19.69</td>\n",
       "      <td>21.25</td>\n",
       "    </tr>\n",
       "    <tr>\n",
       "      <th>3</th>\n",
       "      <td>11.42</td>\n",
       "      <td>20.38</td>\n",
       "    </tr>\n",
       "    <tr>\n",
       "      <th>4</th>\n",
       "      <td>20.29</td>\n",
       "      <td>14.34</td>\n",
       "    </tr>\n",
       "  </tbody>\n",
       "</table>\n",
       "</div>"
      ],
      "text/plain": [
       "   mean radius  mean texture\n",
       "0        17.99         10.38\n",
       "1        20.57         17.77\n",
       "2        19.69         21.25\n",
       "3        11.42         20.38\n",
       "4        20.29         14.34"
      ]
     },
     "execution_count": 3,
     "metadata": {},
     "output_type": "execute_result"
    }
   ],
   "source": [
    "#데이터셋을 데이터프레임화\n",
    "df = pd.DataFrame(brt_cancer.data, columns=brt_cancer.feature_names)\n",
    "df=df[['mean radius','mean texture']]\n",
    "df.head()"
   ]
  },
  {
   "cell_type": "code",
   "execution_count": 4,
   "metadata": {
    "scrolled": true
   },
   "outputs": [],
   "source": [
    "#데이터 정규화\n",
    "scaler = preprocessing.StandardScaler()\n",
    "x_df=df[['mean radius','mean texture']]\n",
    "scaler.fit(x_df)\n",
    "scaled_ar = scaler.transform(x_df)\n",
    "scaled_df=pd.DataFrame(scaled_ar,columns=x_df.columns)\n",
    "\n",
    "#class label 달기\n",
    "scaled_df['diagnosis']=pd.DataFrame(brt_cancer.target)"
   ]
  },
  {
   "cell_type": "code",
   "execution_count": 5,
   "metadata": {},
   "outputs": [
    {
     "data": {
      "text/html": [
       "<div>\n",
       "<style scoped>\n",
       "    .dataframe tbody tr th:only-of-type {\n",
       "        vertical-align: middle;\n",
       "    }\n",
       "\n",
       "    .dataframe tbody tr th {\n",
       "        vertical-align: top;\n",
       "    }\n",
       "\n",
       "    .dataframe thead th {\n",
       "        text-align: right;\n",
       "    }\n",
       "</style>\n",
       "<table border=\"1\" class=\"dataframe\">\n",
       "  <thead>\n",
       "    <tr style=\"text-align: right;\">\n",
       "      <th></th>\n",
       "      <th>mean radius</th>\n",
       "      <th>mean texture</th>\n",
       "      <th>diagnosis</th>\n",
       "    </tr>\n",
       "  </thead>\n",
       "  <tbody>\n",
       "    <tr>\n",
       "      <th>0</th>\n",
       "      <td>1.097064</td>\n",
       "      <td>-2.073335</td>\n",
       "      <td>0</td>\n",
       "    </tr>\n",
       "    <tr>\n",
       "      <th>1</th>\n",
       "      <td>1.829821</td>\n",
       "      <td>-0.353632</td>\n",
       "      <td>0</td>\n",
       "    </tr>\n",
       "    <tr>\n",
       "      <th>2</th>\n",
       "      <td>1.579888</td>\n",
       "      <td>0.456187</td>\n",
       "      <td>0</td>\n",
       "    </tr>\n",
       "    <tr>\n",
       "      <th>3</th>\n",
       "      <td>-0.768909</td>\n",
       "      <td>0.253732</td>\n",
       "      <td>0</td>\n",
       "    </tr>\n",
       "    <tr>\n",
       "      <th>4</th>\n",
       "      <td>1.750297</td>\n",
       "      <td>-1.151816</td>\n",
       "      <td>0</td>\n",
       "    </tr>\n",
       "  </tbody>\n",
       "</table>\n",
       "</div>"
      ],
      "text/plain": [
       "   mean radius  mean texture  diagnosis\n",
       "0     1.097064     -2.073335          0\n",
       "1     1.829821     -0.353632          0\n",
       "2     1.579888      0.456187          0\n",
       "3    -0.768909      0.253732          0\n",
       "4     1.750297     -1.151816          0"
      ]
     },
     "execution_count": 5,
     "metadata": {},
     "output_type": "execute_result"
    }
   ],
   "source": [
    "scaled_df.head()"
   ]
  },
  {
   "cell_type": "code",
   "execution_count": 6,
   "metadata": {},
   "outputs": [
    {
     "name": "stdout",
     "output_type": "stream",
     "text": [
      "(569, 2)\n",
      "398 171 398 171\n"
     ]
    }
   ],
   "source": [
    "from sklearn.model_selection import train_test_split\n",
    "X = scaled_ar\n",
    "y = scaled_df['diagnosis'].values\n",
    "print(X.shape)\n",
    "\n",
    "X_train, X_test, y_train, y_test = train_test_split(X, y, test_size=0.3, random_state=0)\n",
    "print(len(X_train), len(X_test), len(y_train), len(y_test))"
   ]
  },
  {
   "cell_type": "markdown",
   "metadata": {},
   "source": [
    "### 1_Random Forest Classifier"
   ]
  },
  {
   "cell_type": "code",
   "execution_count": 7,
   "metadata": {
    "scrolled": true
   },
   "outputs": [
    {
     "name": "stderr",
     "output_type": "stream",
     "text": [
      "C:\\ProgramData\\Anaconda3\\lib\\site-packages\\sklearn\\ensemble\\forest.py:458: UserWarning: Some inputs do not have OOB scores. This probably means too few trees were used to compute any reliable oob estimates.\n",
      "  warn(\"Some inputs do not have OOB scores. \"\n",
      "C:\\ProgramData\\Anaconda3\\lib\\site-packages\\sklearn\\ensemble\\forest.py:463: RuntimeWarning: invalid value encountered in true_divide\n",
      "  predictions[k].sum(axis=1)[:, np.newaxis])\n"
     ]
    },
    {
     "data": {
      "text/plain": [
       "RandomForestClassifier(bootstrap=True, class_weight=None, criterion='gini',\n",
       "            max_depth=None, max_features='auto', max_leaf_nodes=None,\n",
       "            min_impurity_decrease=0.0, min_impurity_split=None,\n",
       "            min_samples_leaf=1, min_samples_split=2,\n",
       "            min_weight_fraction_leaf=0.0, n_estimators=10, n_jobs=None,\n",
       "            oob_score=True, random_state=0, verbose=0, warm_start=False)"
      ]
     },
     "execution_count": 7,
     "metadata": {},
     "output_type": "execute_result"
    }
   ],
   "source": [
    "from sklearn.ensemble import RandomForestClassifier\n",
    "\n",
    "rf = RandomForestClassifier(n_estimators=10, oob_score=True, random_state=0)\n",
    "\n",
    "rf.fit(X_train, y_train)"
   ]
  },
  {
   "cell_type": "code",
   "execution_count": 8,
   "metadata": {},
   "outputs": [
    {
     "name": "stdout",
     "output_type": "stream",
     "text": [
      "Train R2:  0.9899497487437185\n",
      "Test R2:  0.8654970760233918\n"
     ]
    }
   ],
   "source": [
    "rf.score(X_train,y_train)\n",
    "\n",
    "print(\"Train R2: \",rf.score(X_train,y_train))\n",
    "print(\"Test R2: \",rf.score(X_test,y_test))"
   ]
  },
  {
   "cell_type": "markdown",
   "metadata": {},
   "source": [
    "### 2_KNN Classifier"
   ]
  },
  {
   "cell_type": "code",
   "execution_count": 10,
   "metadata": {},
   "outputs": [],
   "source": [
    "import sklearn\n",
    "from sklearn.neighbors import KNeighborsClassifier\n",
    "#그래프를 통한 k 값 튜닝 - 22로 rough 결정\n",
    "accuracy = []\n",
    "for k in range(1,50):\n",
    "    knn = KNeighborsClassifier(n_neighbors=k)\n",
    "    knn.fit(X_train, y_train)\n",
    "    test_pred = knn.predict(X_test)\n",
    "    accuracy.append(np.mean(np.array(y_test).astype(np.int32)== test_pred))"
   ]
  },
  {
   "cell_type": "code",
   "execution_count": 11,
   "metadata": {},
   "outputs": [
    {
     "data": {
      "image/png": "[encoded data removed]",
      "text/plain": [
       "<Figure size 864x432 with 1 Axes>"
      ]
     },
     "metadata": {
      "needs_background": "light"
     },
     "output_type": "display_data"
    }
   ],
   "source": [
    "plt.figure(figsize=(12, 6))  \n",
    "plt.plot(range(1, 50), accuracy, color='red', linestyle='dashed', marker='o',  \n",
    "         markerfacecolor='blue', markersize=10)\n",
    "plt.title('Accuracy Rate K Value')  \n",
    "plt.xlabel('K Value')  \n",
    "plt.ylabel('Mean Accuracy')  \n",
    "plt.show()"
   ]
  },
  {
   "cell_type": "code",
   "execution_count": 12,
   "metadata": {},
   "outputs": [],
   "source": [
    "from sklearn.neighbors import KNeighborsClassifier\n",
    "\n",
    "accuracy = []\n",
    "error = []\n",
    "for k in range(1,50):\n",
    "    knn = KNeighborsClassifier(n_neighbors=22)\n",
    "    knn.fit(X_train, y_train)\n",
    "    test_pred = knn.predict(X_test)\n",
    "    accuracy.append(np.mean(np.array(y_test).astype(np.int32)== test_pred))\n",
    "    error.append(np.mean(test_pred != y_test))"
   ]
  },
  {
   "cell_type": "code",
   "execution_count": 13,
   "metadata": {},
   "outputs": [
    {
     "name": "stdout",
     "output_type": "stream",
     "text": [
      "Train R2:  0.9020100502512562\n",
      "Test R2:  0.9239766081871345\n"
     ]
    }
   ],
   "source": [
    "knn.score(X_train,y_train)\n",
    "\n",
    "print(\"Train R2: \",knn.score(X_train,y_train))\n",
    "print(\"Test R2: \",knn.score(X_test,y_test))"
   ]
  },
  {
   "cell_type": "markdown",
   "metadata": {},
   "source": [
    "### 1_1 ROC Curve of Random Forest"
   ]
  },
  {
   "cell_type": "code",
   "execution_count": 14,
   "metadata": {},
   "outputs": [],
   "source": [
    "from sklearn.metrics import auc\n",
    "from sklearn.metrics import roc_curve\n",
    "from sklearn.metrics import roc_auc_score\n",
    "from sklearn.metrics import precision_recall_curve\n",
    "from sklearn.model_selection import train_test_split\n",
    "import matplotlib.pyplot as plt"
   ]
  },
  {
   "cell_type": "code",
   "execution_count": 15,
   "metadata": {},
   "outputs": [],
   "source": [
    "#keep probabilities for the positive outcome only\n",
    "probs = rf.predict_proba(X_test)\n",
    "y_score = probs[:, 1] # 0,1 중 1로 분류될 확률"
   ]
  },
  {
   "cell_type": "code",
   "execution_count": 16,
   "metadata": {},
   "outputs": [],
   "source": [
    "# calculate AUC\n",
    "roc_auc = roc_auc_score(y_test, y_score)\n",
    "\n",
    "# calculate roc curve\n",
    "fpr, tpr, thresholds = roc_curve(y_test, y_score)"
   ]
  },
  {
   "cell_type": "code",
   "execution_count": 17,
   "metadata": {},
   "outputs": [
    {
     "data": {
      "image/png": "[encoded data removed]",
      "text/plain": [
       "<Figure size 432x288 with 1 Axes>"
      ]
     },
     "metadata": {
      "needs_background": "light"
     },
     "output_type": "display_data"
    }
   ],
   "source": [
    "plt.figure()\n",
    "plt.plot(fpr, tpr, lw=2, color='darkorange', label='ROC curve (area = %0.2f)' % roc_auc)\n",
    "plt.plot([0, 1], [0, 1], color='navy', lw=2, linestyle='--')\n",
    "plt.xlim([0.0, 1.0])\n",
    "plt.ylim([0.0, 1.05])\n",
    "plt.xlabel('False Positive Rate = Recall')\n",
    "plt.ylabel('True Positive Rate = Sensitivity')\n",
    "plt.title('ROC curve')\n",
    "plt.legend(loc=\"lower right\")\n",
    "plt.show()"
   ]
  },
  {
   "cell_type": "markdown",
   "metadata": {},
   "source": [
    "### 2_1 ROC Curve of KNN"
   ]
  },
  {
   "cell_type": "code",
   "execution_count": 18,
   "metadata": {},
   "outputs": [],
   "source": [
    "#keep probabilities for the positive outcome only\n",
    "probs = knn.predict_proba(X_test)\n",
    "y_score = probs[:, 1] # 0,1 중 1로 분류될 확률\n",
    "# calculate AUC\n",
    "roc_auc = roc_auc_score(y_test, y_score)\n",
    "\n",
    "# calculate roc curve\n",
    "fpr, tpr, thresholds = roc_curve(y_test, y_score)"
   ]
  },
  {
   "cell_type": "code",
   "execution_count": 19,
   "metadata": {
    "scrolled": true
   },
   "outputs": [
    {
     "data": {
      "image/png": "[encoded data removed]",
      "text/plain": [
       "<Figure size 432x288 with 1 Axes>"
      ]
     },
     "metadata": {
      "needs_background": "light"
     },
     "output_type": "display_data"
    }
   ],
   "source": [
    "plt.figure()\n",
    "plt.plot(fpr, tpr, lw=2, color='darkorange', label='ROC curve (area = %0.2f)' % roc_auc)\n",
    "plt.plot([0, 1], [0, 1], color='navy', lw=2, linestyle='--')\n",
    "plt.xlim([0.0, 1.0])\n",
    "plt.ylim([0.0, 1.05])\n",
    "plt.xlabel('False Positive Rate = Recall')\n",
    "plt.ylabel('True Positive Rate = Sensitivity')\n",
    "plt.title('ROC curve')\n",
    "plt.legend(loc=\"lower right\")\n",
    "plt.show()"
   ]
  },
  {
   "cell_type": "markdown",
   "metadata": {},
   "source": [
    "#### - ROC Curve로 비교하였을 때 KNN 모델이 왼쪽 위 코너로 붙어 더 예측력이 좋은 모델임을 확인할 수 있다. PR Curve는 데이터 라벨의 분포가 불균등하지 않으므로 확인하지 않는다."
   ]
  },
  {
   "cell_type": "markdown",
   "metadata": {},
   "source": [
    "### 3_Grid Search with Cross Validation"
   ]
  },
  {
   "cell_type": "code",
   "execution_count": 20,
   "metadata": {},
   "outputs": [],
   "source": [
    "# 시험할 파라미터 지정\n",
    "param_grid = {'n_neighbors':range(15,30), 'weights': ['uniform','distance'],\n",
    "             'leaf_size':[20,30,40],'metric':['euclidean','manhattan','minkowski']}"
   ]
  },
  {
   "cell_type": "code",
   "execution_count": 21,
   "metadata": {},
   "outputs": [
    {
     "name": "stdout",
     "output_type": "stream",
     "text": [
      "최적의 파라미터:  {'leaf_size': 20, 'metric': 'manhattan', 'n_neighbors': 25, 'weights': 'uniform'}\n",
      "최고 성능 모델:  KNeighborsClassifier(algorithm='auto', leaf_size=20, metric='manhattan',\n",
      "           metric_params=None, n_jobs=None, n_neighbors=25, p=2,\n",
      "           weights='uniform')\n",
      "최고 교차검증 점수: 0.91\n"
     ]
    },
    {
     "name": "stderr",
     "output_type": "stream",
     "text": [
      "C:\\ProgramData\\Anaconda3\\lib\\site-packages\\sklearn\\model_selection\\_search.py:841: DeprecationWarning: The default of the `iid` parameter will change from True to False in version 0.22 and will be removed in 0.24. This will change numeric results when test-set sizes are unequal.\n",
      "  DeprecationWarning)\n"
     ]
    }
   ],
   "source": [
    "from sklearn.model_selection import GridSearchCV\n",
    "\n",
    "grid_search = GridSearchCV(KNeighborsClassifier(), param_grid, cv=5) \n",
    "grid_search.fit(X, y)\n",
    "\n",
    "print('최적의 파라미터: ', grid_search.best_params_)\n",
    "print('최고 성능 모델: ', grid_search.best_estimator_)\n",
    "print('최고 교차검증 점수: {:.2f}'.format(grid_search.best_score_))"
   ]
  },
  {
   "cell_type": "code",
   "execution_count": 22,
   "metadata": {},
   "outputs": [
    {
     "name": "stderr",
     "output_type": "stream",
     "text": [
      "C:\\ProgramData\\Anaconda3\\lib\\site-packages\\sklearn\\utils\\deprecation.py:125: FutureWarning: You are accessing a training score ('split0_train_score'), which will not be available by default any more in 0.21. If you need training scores, please set return_train_score=True\n",
      "  warnings.warn(*warn_args, **warn_kwargs)\n",
      "C:\\ProgramData\\Anaconda3\\lib\\site-packages\\sklearn\\utils\\deprecation.py:125: FutureWarning: You are accessing a training score ('split1_train_score'), which will not be available by default any more in 0.21. If you need training scores, please set return_train_score=True\n",
      "  warnings.warn(*warn_args, **warn_kwargs)\n",
      "C:\\ProgramData\\Anaconda3\\lib\\site-packages\\sklearn\\utils\\deprecation.py:125: FutureWarning: You are accessing a training score ('split2_train_score'), which will not be available by default any more in 0.21. If you need training scores, please set return_train_score=True\n",
      "  warnings.warn(*warn_args, **warn_kwargs)\n",
      "C:\\ProgramData\\Anaconda3\\lib\\site-packages\\sklearn\\utils\\deprecation.py:125: FutureWarning: You are accessing a training score ('split3_train_score'), which will not be available by default any more in 0.21. If you need training scores, please set return_train_score=True\n",
      "  warnings.warn(*warn_args, **warn_kwargs)\n",
      "C:\\ProgramData\\Anaconda3\\lib\\site-packages\\sklearn\\utils\\deprecation.py:125: FutureWarning: You are accessing a training score ('split4_train_score'), which will not be available by default any more in 0.21. If you need training scores, please set return_train_score=True\n",
      "  warnings.warn(*warn_args, **warn_kwargs)\n",
      "C:\\ProgramData\\Anaconda3\\lib\\site-packages\\sklearn\\utils\\deprecation.py:125: FutureWarning: You are accessing a training score ('mean_train_score'), which will not be available by default any more in 0.21. If you need training scores, please set return_train_score=True\n",
      "  warnings.warn(*warn_args, **warn_kwargs)\n",
      "C:\\ProgramData\\Anaconda3\\lib\\site-packages\\sklearn\\utils\\deprecation.py:125: FutureWarning: You are accessing a training score ('std_train_score'), which will not be available by default any more in 0.21. If you need training scores, please set return_train_score=True\n",
      "  warnings.warn(*warn_args, **warn_kwargs)\n"
     ]
    },
    {
     "data": {
      "text/html": [
       "<div>\n",
       "<style scoped>\n",
       "    .dataframe tbody tr th:only-of-type {\n",
       "        vertical-align: middle;\n",
       "    }\n",
       "\n",
       "    .dataframe tbody tr th {\n",
       "        vertical-align: top;\n",
       "    }\n",
       "\n",
       "    .dataframe thead th {\n",
       "        text-align: right;\n",
       "    }\n",
       "</style>\n",
       "<table border=\"1\" class=\"dataframe\">\n",
       "  <thead>\n",
       "    <tr style=\"text-align: right;\">\n",
       "      <th></th>\n",
       "      <th>61</th>\n",
       "      <th>1</th>\n",
       "      <th>95</th>\n",
       "      <th>5</th>\n",
       "      <th>65</th>\n",
       "    </tr>\n",
       "  </thead>\n",
       "  <tbody>\n",
       "    <tr>\n",
       "      <th>mean_fit_time</th>\n",
       "      <td>0.000999212</td>\n",
       "      <td>0.00139756</td>\n",
       "      <td>0.000798512</td>\n",
       "      <td>0.000598717</td>\n",
       "      <td>0.00119743</td>\n",
       "    </tr>\n",
       "    <tr>\n",
       "      <th>std_fit_time</th>\n",
       "      <td>1.95078e-05</td>\n",
       "      <td>0.000488267</td>\n",
       "      <td>0.000399262</td>\n",
       "      <td>0.000488851</td>\n",
       "      <td>0.000398708</td>\n",
       "    </tr>\n",
       "    <tr>\n",
       "      <th>mean_score_time</th>\n",
       "      <td>0.00200071</td>\n",
       "      <td>0.00299025</td>\n",
       "      <td>0.00239072</td>\n",
       "      <td>0.00179338</td>\n",
       "      <td>0.00219316</td>\n",
       "    </tr>\n",
       "    <tr>\n",
       "      <th>std_score_time</th>\n",
       "      <td>2.56375e-05</td>\n",
       "      <td>0.000892605</td>\n",
       "      <td>0.000488059</td>\n",
       "      <td>0.000397812</td>\n",
       "      <td>0.000399258</td>\n",
       "    </tr>\n",
       "    <tr>\n",
       "      <th>param_leaf_size</th>\n",
       "      <td>20</td>\n",
       "      <td>20</td>\n",
       "      <td>30</td>\n",
       "      <td>20</td>\n",
       "      <td>20</td>\n",
       "    </tr>\n",
       "    <tr>\n",
       "      <th>param_metric</th>\n",
       "      <td>minkowski</td>\n",
       "      <td>euclidean</td>\n",
       "      <td>euclidean</td>\n",
       "      <td>euclidean</td>\n",
       "      <td>minkowski</td>\n",
       "    </tr>\n",
       "    <tr>\n",
       "      <th>param_n_neighbors</th>\n",
       "      <td>15</td>\n",
       "      <td>15</td>\n",
       "      <td>17</td>\n",
       "      <td>17</td>\n",
       "      <td>17</td>\n",
       "    </tr>\n",
       "    <tr>\n",
       "      <th>param_weights</th>\n",
       "      <td>distance</td>\n",
       "      <td>distance</td>\n",
       "      <td>distance</td>\n",
       "      <td>distance</td>\n",
       "      <td>distance</td>\n",
       "    </tr>\n",
       "    <tr>\n",
       "      <th>params</th>\n",
       "      <td>{'leaf_size': 20, 'metric': 'minkowski', 'n_ne...</td>\n",
       "      <td>{'leaf_size': 20, 'metric': 'euclidean', 'n_ne...</td>\n",
       "      <td>{'leaf_size': 30, 'metric': 'euclidean', 'n_ne...</td>\n",
       "      <td>{'leaf_size': 20, 'metric': 'euclidean', 'n_ne...</td>\n",
       "      <td>{'leaf_size': 20, 'metric': 'minkowski', 'n_ne...</td>\n",
       "    </tr>\n",
       "    <tr>\n",
       "      <th>split0_test_score</th>\n",
       "      <td>0.843478</td>\n",
       "      <td>0.843478</td>\n",
       "      <td>0.843478</td>\n",
       "      <td>0.843478</td>\n",
       "      <td>0.843478</td>\n",
       "    </tr>\n",
       "    <tr>\n",
       "      <th>split1_test_score</th>\n",
       "      <td>0.86087</td>\n",
       "      <td>0.86087</td>\n",
       "      <td>0.86087</td>\n",
       "      <td>0.86087</td>\n",
       "      <td>0.86087</td>\n",
       "    </tr>\n",
       "    <tr>\n",
       "      <th>split2_test_score</th>\n",
       "      <td>0.893805</td>\n",
       "      <td>0.893805</td>\n",
       "      <td>0.893805</td>\n",
       "      <td>0.893805</td>\n",
       "      <td>0.893805</td>\n",
       "    </tr>\n",
       "    <tr>\n",
       "      <th>split3_test_score</th>\n",
       "      <td>0.902655</td>\n",
       "      <td>0.902655</td>\n",
       "      <td>0.902655</td>\n",
       "      <td>0.902655</td>\n",
       "      <td>0.902655</td>\n",
       "    </tr>\n",
       "    <tr>\n",
       "      <th>split4_test_score</th>\n",
       "      <td>0.876106</td>\n",
       "      <td>0.876106</td>\n",
       "      <td>0.876106</td>\n",
       "      <td>0.876106</td>\n",
       "      <td>0.876106</td>\n",
       "    </tr>\n",
       "    <tr>\n",
       "      <th>mean_test_score</th>\n",
       "      <td>0.87522</td>\n",
       "      <td>0.87522</td>\n",
       "      <td>0.87522</td>\n",
       "      <td>0.87522</td>\n",
       "      <td>0.87522</td>\n",
       "    </tr>\n",
       "    <tr>\n",
       "      <th>std_test_score</th>\n",
       "      <td>0.0215287</td>\n",
       "      <td>0.0215287</td>\n",
       "      <td>0.0215287</td>\n",
       "      <td>0.0215287</td>\n",
       "      <td>0.0215287</td>\n",
       "    </tr>\n",
       "    <tr>\n",
       "      <th>rank_test_score</th>\n",
       "      <td>259</td>\n",
       "      <td>259</td>\n",
       "      <td>259</td>\n",
       "      <td>259</td>\n",
       "      <td>259</td>\n",
       "    </tr>\n",
       "    <tr>\n",
       "      <th>split0_train_score</th>\n",
       "      <td>1</td>\n",
       "      <td>1</td>\n",
       "      <td>1</td>\n",
       "      <td>1</td>\n",
       "      <td>1</td>\n",
       "    </tr>\n",
       "    <tr>\n",
       "      <th>split1_train_score</th>\n",
       "      <td>1</td>\n",
       "      <td>1</td>\n",
       "      <td>1</td>\n",
       "      <td>1</td>\n",
       "      <td>1</td>\n",
       "    </tr>\n",
       "    <tr>\n",
       "      <th>split2_train_score</th>\n",
       "      <td>1</td>\n",
       "      <td>1</td>\n",
       "      <td>1</td>\n",
       "      <td>1</td>\n",
       "      <td>1</td>\n",
       "    </tr>\n",
       "    <tr>\n",
       "      <th>split3_train_score</th>\n",
       "      <td>1</td>\n",
       "      <td>1</td>\n",
       "      <td>1</td>\n",
       "      <td>1</td>\n",
       "      <td>1</td>\n",
       "    </tr>\n",
       "    <tr>\n",
       "      <th>split4_train_score</th>\n",
       "      <td>1</td>\n",
       "      <td>1</td>\n",
       "      <td>1</td>\n",
       "      <td>1</td>\n",
       "      <td>1</td>\n",
       "    </tr>\n",
       "    <tr>\n",
       "      <th>mean_train_score</th>\n",
       "      <td>1</td>\n",
       "      <td>1</td>\n",
       "      <td>1</td>\n",
       "      <td>1</td>\n",
       "      <td>1</td>\n",
       "    </tr>\n",
       "    <tr>\n",
       "      <th>std_train_score</th>\n",
       "      <td>0</td>\n",
       "      <td>0</td>\n",
       "      <td>0</td>\n",
       "      <td>0</td>\n",
       "      <td>0</td>\n",
       "    </tr>\n",
       "  </tbody>\n",
       "</table>\n",
       "</div>"
      ],
      "text/plain": [
       "                                                                   61  \\\n",
       "mean_fit_time                                             0.000999212   \n",
       "std_fit_time                                              1.95078e-05   \n",
       "mean_score_time                                            0.00200071   \n",
       "std_score_time                                            2.56375e-05   \n",
       "param_leaf_size                                                    20   \n",
       "param_metric                                                minkowski   \n",
       "param_n_neighbors                                                  15   \n",
       "param_weights                                                distance   \n",
       "params              {'leaf_size': 20, 'metric': 'minkowski', 'n_ne...   \n",
       "split0_test_score                                            0.843478   \n",
       "split1_test_score                                             0.86087   \n",
       "split2_test_score                                            0.893805   \n",
       "split3_test_score                                            0.902655   \n",
       "split4_test_score                                            0.876106   \n",
       "mean_test_score                                               0.87522   \n",
       "std_test_score                                              0.0215287   \n",
       "rank_test_score                                                   259   \n",
       "split0_train_score                                                  1   \n",
       "split1_train_score                                                  1   \n",
       "split2_train_score                                                  1   \n",
       "split3_train_score                                                  1   \n",
       "split4_train_score                                                  1   \n",
       "mean_train_score                                                    1   \n",
       "std_train_score                                                     0   \n",
       "\n",
       "                                                                   1   \\\n",
       "mean_fit_time                                              0.00139756   \n",
       "std_fit_time                                              0.000488267   \n",
       "mean_score_time                                            0.00299025   \n",
       "std_score_time                                            0.000892605   \n",
       "param_leaf_size                                                    20   \n",
       "param_metric                                                euclidean   \n",
       "param_n_neighbors                                                  15   \n",
       "param_weights                                                distance   \n",
       "params              {'leaf_size': 20, 'metric': 'euclidean', 'n_ne...   \n",
       "split0_test_score                                            0.843478   \n",
       "split1_test_score                                             0.86087   \n",
       "split2_test_score                                            0.893805   \n",
       "split3_test_score                                            0.902655   \n",
       "split4_test_score                                            0.876106   \n",
       "mean_test_score                                               0.87522   \n",
       "std_test_score                                              0.0215287   \n",
       "rank_test_score                                                   259   \n",
       "split0_train_score                                                  1   \n",
       "split1_train_score                                                  1   \n",
       "split2_train_score                                                  1   \n",
       "split3_train_score                                                  1   \n",
       "split4_train_score                                                  1   \n",
       "mean_train_score                                                    1   \n",
       "std_train_score                                                     0   \n",
       "\n",
       "                                                                   95  \\\n",
       "mean_fit_time                                             0.000798512   \n",
       "std_fit_time                                              0.000399262   \n",
       "mean_score_time                                            0.00239072   \n",
       "std_score_time                                            0.000488059   \n",
       "param_leaf_size                                                    30   \n",
       "param_metric                                                euclidean   \n",
       "param_n_neighbors                                                  17   \n",
       "param_weights                                                distance   \n",
       "params              {'leaf_size': 30, 'metric': 'euclidean', 'n_ne...   \n",
       "split0_test_score                                            0.843478   \n",
       "split1_test_score                                             0.86087   \n",
       "split2_test_score                                            0.893805   \n",
       "split3_test_score                                            0.902655   \n",
       "split4_test_score                                            0.876106   \n",
       "mean_test_score                                               0.87522   \n",
       "std_test_score                                              0.0215287   \n",
       "rank_test_score                                                   259   \n",
       "split0_train_score                                                  1   \n",
       "split1_train_score                                                  1   \n",
       "split2_train_score                                                  1   \n",
       "split3_train_score                                                  1   \n",
       "split4_train_score                                                  1   \n",
       "mean_train_score                                                    1   \n",
       "std_train_score                                                     0   \n",
       "\n",
       "                                                                   5   \\\n",
       "mean_fit_time                                             0.000598717   \n",
       "std_fit_time                                              0.000488851   \n",
       "mean_score_time                                            0.00179338   \n",
       "std_score_time                                            0.000397812   \n",
       "param_leaf_size                                                    20   \n",
       "param_metric                                                euclidean   \n",
       "param_n_neighbors                                                  17   \n",
       "param_weights                                                distance   \n",
       "params              {'leaf_size': 20, 'metric': 'euclidean', 'n_ne...   \n",
       "split0_test_score                                            0.843478   \n",
       "split1_test_score                                             0.86087   \n",
       "split2_test_score                                            0.893805   \n",
       "split3_test_score                                            0.902655   \n",
       "split4_test_score                                            0.876106   \n",
       "mean_test_score                                               0.87522   \n",
       "std_test_score                                              0.0215287   \n",
       "rank_test_score                                                   259   \n",
       "split0_train_score                                                  1   \n",
       "split1_train_score                                                  1   \n",
       "split2_train_score                                                  1   \n",
       "split3_train_score                                                  1   \n",
       "split4_train_score                                                  1   \n",
       "mean_train_score                                                    1   \n",
       "std_train_score                                                     0   \n",
       "\n",
       "                                                                   65  \n",
       "mean_fit_time                                              0.00119743  \n",
       "std_fit_time                                              0.000398708  \n",
       "mean_score_time                                            0.00219316  \n",
       "std_score_time                                            0.000399258  \n",
       "param_leaf_size                                                    20  \n",
       "param_metric                                                minkowski  \n",
       "param_n_neighbors                                                  17  \n",
       "param_weights                                                distance  \n",
       "params              {'leaf_size': 20, 'metric': 'minkowski', 'n_ne...  \n",
       "split0_test_score                                            0.843478  \n",
       "split1_test_score                                             0.86087  \n",
       "split2_test_score                                            0.893805  \n",
       "split3_test_score                                            0.902655  \n",
       "split4_test_score                                            0.876106  \n",
       "mean_test_score                                               0.87522  \n",
       "std_test_score                                              0.0215287  \n",
       "rank_test_score                                                   259  \n",
       "split0_train_score                                                  1  \n",
       "split1_train_score                                                  1  \n",
       "split2_train_score                                                  1  \n",
       "split3_train_score                                                  1  \n",
       "split4_train_score                                                  1  \n",
       "mean_train_score                                                    1  \n",
       "std_train_score                                                     0  "
      ]
     },
     "metadata": {},
     "output_type": "display_data"
    }
   ],
   "source": [
    "# DF화하여 결과 확인\n",
    "pd.set_option('display.max_columns', None)\n",
    "results = pd.DataFrame(grid_search.cv_results_)\n",
    "\n",
    "#test score 높은 순으로 확인\n",
    "results.sort_values(by=['mean_test_score'],inplace=True)\n",
    "\n",
    "display(np.transpose(results.head()))"
   ]
  },
  {
   "cell_type": "markdown",
   "metadata": {},
   "source": [
    "### 5_KNN 튜닝"
   ]
  },
  {
   "cell_type": "code",
   "execution_count": 23,
   "metadata": {},
   "outputs": [
    {
     "data": {
      "text/plain": [
       "KNeighborsClassifier(algorithm='auto', leaf_size=20, metric='manhattan',\n",
       "           metric_params=None, n_jobs=None, n_neighbors=25, p=2,\n",
       "           weights='uniform')"
      ]
     },
     "execution_count": 23,
     "metadata": {},
     "output_type": "execute_result"
    }
   ],
   "source": [
    "knn2 = KNeighborsClassifier(algorithm='auto', leaf_size=20, metric='manhattan',\n",
    "       metric_params=None, n_jobs=None, n_neighbors=25, p=2,\n",
    "       weights='uniform')\n",
    "knn2.fit(X_train, y_train)"
   ]
  },
  {
   "cell_type": "code",
   "execution_count": 24,
   "metadata": {},
   "outputs": [
    {
     "name": "stdout",
     "output_type": "stream",
     "text": [
      "Train R2:  0.8969849246231156\n",
      "Test R2:  0.9239766081871345\n"
     ]
    }
   ],
   "source": [
    "knn.score(X_train,y_train)\n",
    "\n",
    "print(\"Train R2: \",knn2.score(X_train,y_train))\n",
    "print(\"Test R2: \",knn2.score(X_test,y_test))"
   ]
  },
  {
   "cell_type": "markdown",
   "metadata": {},
   "source": [
    "#### - Grid search를 통한 튜닝을 통해 Test R2는 유지하면서도 Train R2를 0.01가량 줄여 Overfitting을 완화하였다."
   ]
  }
 ],
 "metadata": {
  "kernelspec": {
   "display_name": "Python 3",
   "language": "python",
   "name": "python3"
  },
  "language_info": {
   "codemirror_mode": {
    "name": "ipython",
    "version": 3
   },
   "file_extension": ".py",
   "mimetype": "text/x-python",
   "name": "python",
   "nbconvert_exporter": "python",
   "pygments_lexer": "ipython3",
   "version": "3.7.3"
  }
 },
 "nbformat": 4,
 "nbformat_minor": 2
}
