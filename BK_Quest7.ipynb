{
 "cells": [
  {
   "cell_type": "markdown",
   "metadata": {},
   "source": [
    "### EDA & Standardization"
   ]
  },
  {
   "cell_type": "code",
   "execution_count": 1,
   "metadata": {},
   "outputs": [],
   "source": [
    "import numpy as np\n",
    "import pandas as pd\n",
    "import os\n",
    "os.chdir(r\"C:\\Users\\최보경\\Desktop\\2019SN\\GrowthHackers\\Education\\Session Slides\\5th_EDU\\Session_08\\data\")\n",
    "org_df=pd.read_csv(\"2017.csv\",index_col='Country')"
   ]
  },
  {
   "cell_type": "code",
   "execution_count": 2,
   "metadata": {
    "scrolled": true
   },
   "outputs": [
    {
     "data": {
      "text/html": [
       "<div>\n",
       "<style scoped>\n",
       "    .dataframe tbody tr th:only-of-type {\n",
       "        vertical-align: middle;\n",
       "    }\n",
       "\n",
       "    .dataframe tbody tr th {\n",
       "        vertical-align: top;\n",
       "    }\n",
       "\n",
       "    .dataframe thead th {\n",
       "        text-align: right;\n",
       "    }\n",
       "</style>\n",
       "<table border=\"1\" class=\"dataframe\">\n",
       "  <thead>\n",
       "    <tr style=\"text-align: right;\">\n",
       "      <th></th>\n",
       "      <th>Happiness.Rank</th>\n",
       "      <th>Happiness.Score</th>\n",
       "      <th>Whisker.high</th>\n",
       "      <th>Whisker.low</th>\n",
       "      <th>Economy..GDP.per.Capita.</th>\n",
       "      <th>Family</th>\n",
       "      <th>Health..Life.Expectancy.</th>\n",
       "      <th>Freedom</th>\n",
       "      <th>Generosity</th>\n",
       "      <th>Trust..Government.Corruption.</th>\n",
       "      <th>Dystopia.Residual</th>\n",
       "    </tr>\n",
       "    <tr>\n",
       "      <th>Country</th>\n",
       "      <th></th>\n",
       "      <th></th>\n",
       "      <th></th>\n",
       "      <th></th>\n",
       "      <th></th>\n",
       "      <th></th>\n",
       "      <th></th>\n",
       "      <th></th>\n",
       "      <th></th>\n",
       "      <th></th>\n",
       "      <th></th>\n",
       "    </tr>\n",
       "  </thead>\n",
       "  <tbody>\n",
       "    <tr>\n",
       "      <th>Norway</th>\n",
       "      <td>1</td>\n",
       "      <td>7.537</td>\n",
       "      <td>7.594445</td>\n",
       "      <td>7.479556</td>\n",
       "      <td>1.616463</td>\n",
       "      <td>1.533524</td>\n",
       "      <td>0.796667</td>\n",
       "      <td>0.635423</td>\n",
       "      <td>0.362012</td>\n",
       "      <td>0.315964</td>\n",
       "      <td>2.277027</td>\n",
       "    </tr>\n",
       "    <tr>\n",
       "      <th>Denmark</th>\n",
       "      <td>2</td>\n",
       "      <td>7.522</td>\n",
       "      <td>7.581728</td>\n",
       "      <td>7.462272</td>\n",
       "      <td>1.482383</td>\n",
       "      <td>1.551122</td>\n",
       "      <td>0.792566</td>\n",
       "      <td>0.626007</td>\n",
       "      <td>0.355280</td>\n",
       "      <td>0.400770</td>\n",
       "      <td>2.313707</td>\n",
       "    </tr>\n",
       "    <tr>\n",
       "      <th>Iceland</th>\n",
       "      <td>3</td>\n",
       "      <td>7.504</td>\n",
       "      <td>7.622030</td>\n",
       "      <td>7.385970</td>\n",
       "      <td>1.480633</td>\n",
       "      <td>1.610574</td>\n",
       "      <td>0.833552</td>\n",
       "      <td>0.627163</td>\n",
       "      <td>0.475540</td>\n",
       "      <td>0.153527</td>\n",
       "      <td>2.322715</td>\n",
       "    </tr>\n",
       "    <tr>\n",
       "      <th>Switzerland</th>\n",
       "      <td>4</td>\n",
       "      <td>7.494</td>\n",
       "      <td>7.561772</td>\n",
       "      <td>7.426227</td>\n",
       "      <td>1.564980</td>\n",
       "      <td>1.516912</td>\n",
       "      <td>0.858131</td>\n",
       "      <td>0.620071</td>\n",
       "      <td>0.290549</td>\n",
       "      <td>0.367007</td>\n",
       "      <td>2.276716</td>\n",
       "    </tr>\n",
       "    <tr>\n",
       "      <th>Finland</th>\n",
       "      <td>5</td>\n",
       "      <td>7.469</td>\n",
       "      <td>7.527542</td>\n",
       "      <td>7.410458</td>\n",
       "      <td>1.443572</td>\n",
       "      <td>1.540247</td>\n",
       "      <td>0.809158</td>\n",
       "      <td>0.617951</td>\n",
       "      <td>0.245483</td>\n",
       "      <td>0.382612</td>\n",
       "      <td>2.430182</td>\n",
       "    </tr>\n",
       "  </tbody>\n",
       "</table>\n",
       "</div>"
      ],
      "text/plain": [
       "             Happiness.Rank  Happiness.Score  Whisker.high  Whisker.low  \\\n",
       "Country                                                                   \n",
       "Norway                    1            7.537      7.594445     7.479556   \n",
       "Denmark                   2            7.522      7.581728     7.462272   \n",
       "Iceland                   3            7.504      7.622030     7.385970   \n",
       "Switzerland               4            7.494      7.561772     7.426227   \n",
       "Finland                   5            7.469      7.527542     7.410458   \n",
       "\n",
       "             Economy..GDP.per.Capita.    Family  Health..Life.Expectancy.  \\\n",
       "Country                                                                     \n",
       "Norway                       1.616463  1.533524                  0.796667   \n",
       "Denmark                      1.482383  1.551122                  0.792566   \n",
       "Iceland                      1.480633  1.610574                  0.833552   \n",
       "Switzerland                  1.564980  1.516912                  0.858131   \n",
       "Finland                      1.443572  1.540247                  0.809158   \n",
       "\n",
       "              Freedom  Generosity  Trust..Government.Corruption.  \\\n",
       "Country                                                            \n",
       "Norway       0.635423    0.362012                       0.315964   \n",
       "Denmark      0.626007    0.355280                       0.400770   \n",
       "Iceland      0.627163    0.475540                       0.153527   \n",
       "Switzerland  0.620071    0.290549                       0.367007   \n",
       "Finland      0.617951    0.245483                       0.382612   \n",
       "\n",
       "             Dystopia.Residual  \n",
       "Country                         \n",
       "Norway                2.277027  \n",
       "Denmark               2.313707  \n",
       "Iceland               2.322715  \n",
       "Switzerland           2.276716  \n",
       "Finland               2.430182  "
      ]
     },
     "execution_count": 2,
     "metadata": {},
     "output_type": "execute_result"
    }
   ],
   "source": [
    "org_df.head()"
   ]
  },
  {
   "cell_type": "code",
   "execution_count": 3,
   "metadata": {
    "scrolled": false
   },
   "outputs": [
    {
     "name": "stdout",
     "output_type": "stream",
     "text": [
      "<class 'pandas.core.frame.DataFrame'>\n",
      "Index: 155 entries, Norway to Central African Republic\n",
      "Data columns (total 11 columns):\n",
      "Happiness.Rank                   155 non-null int64\n",
      "Happiness.Score                  155 non-null float64\n",
      "Whisker.high                     155 non-null float64\n",
      "Whisker.low                      155 non-null float64\n",
      "Economy..GDP.per.Capita.         155 non-null float64\n",
      "Family                           155 non-null float64\n",
      "Health..Life.Expectancy.         155 non-null float64\n",
      "Freedom                          155 non-null float64\n",
      "Generosity                       155 non-null float64\n",
      "Trust..Government.Corruption.    155 non-null float64\n",
      "Dystopia.Residual                155 non-null float64\n",
      "dtypes: float64(10), int64(1)\n",
      "memory usage: 14.5+ KB\n"
     ]
    }
   ],
   "source": [
    "org_df.info()"
   ]
  },
  {
   "cell_type": "code",
   "execution_count": 4,
   "metadata": {},
   "outputs": [
    {
     "data": {
      "text/plain": [
       "Happiness.Rank                   0\n",
       "Happiness.Score                  0\n",
       "Whisker.high                     0\n",
       "Whisker.low                      0\n",
       "Economy..GDP.per.Capita.         0\n",
       "Family                           0\n",
       "Health..Life.Expectancy.         0\n",
       "Freedom                          0\n",
       "Generosity                       0\n",
       "Trust..Government.Corruption.    0\n",
       "Dystopia.Residual                0\n",
       "dtype: int64"
      ]
     },
     "execution_count": 4,
     "metadata": {},
     "output_type": "execute_result"
    }
   ],
   "source": [
    "#Missing values computation\n",
    "org_df.isnull().sum()\n",
    "#Missing value 처리는 하지 않아도 된다."
   ]
  },
  {
   "cell_type": "code",
   "execution_count": 5,
   "metadata": {},
   "outputs": [
    {
     "name": "stderr",
     "output_type": "stream",
     "text": [
      "C:\\ProgramData\\Anaconda3\\lib\\site-packages\\sklearn\\preprocessing\\data.py:625: DataConversionWarning: Data with input dtype int64, float64 were all converted to float64 by StandardScaler.\n",
      "  return self.partial_fit(X, y)\n",
      "C:\\ProgramData\\Anaconda3\\lib\\site-packages\\sklearn\\base.py:462: DataConversionWarning: Data with input dtype int64, float64 were all converted to float64 by StandardScaler.\n",
      "  return self.fit(X, **fit_params).transform(X)\n"
     ]
    }
   ],
   "source": [
    "#Standardization\n",
    "from sklearn import preprocessing\n",
    "scaler = preprocessing.StandardScaler()\n",
    "scaled_ar = scaler.fit_transform(org_df)\n",
    "scaled_df = pd.DataFrame(scaled_ar,columns=org_df.columns,index=org_df.index)"
   ]
  },
  {
   "cell_type": "code",
   "execution_count": 6,
   "metadata": {},
   "outputs": [
    {
     "data": {
      "text/html": [
       "<div>\n",
       "<style scoped>\n",
       "    .dataframe tbody tr th:only-of-type {\n",
       "        vertical-align: middle;\n",
       "    }\n",
       "\n",
       "    .dataframe tbody tr th {\n",
       "        vertical-align: top;\n",
       "    }\n",
       "\n",
       "    .dataframe thead th {\n",
       "        text-align: right;\n",
       "    }\n",
       "</style>\n",
       "<table border=\"1\" class=\"dataframe\">\n",
       "  <thead>\n",
       "    <tr style=\"text-align: right;\">\n",
       "      <th></th>\n",
       "      <th>Happiness.Rank</th>\n",
       "      <th>Happiness.Score</th>\n",
       "      <th>Whisker.high</th>\n",
       "      <th>Whisker.low</th>\n",
       "      <th>Economy..GDP.per.Capita.</th>\n",
       "      <th>Family</th>\n",
       "      <th>Health..Life.Expectancy.</th>\n",
       "      <th>Freedom</th>\n",
       "      <th>Generosity</th>\n",
       "      <th>Trust..Government.Corruption.</th>\n",
       "      <th>Dystopia.Residual</th>\n",
       "    </tr>\n",
       "    <tr>\n",
       "      <th>Country</th>\n",
       "      <th></th>\n",
       "      <th></th>\n",
       "      <th></th>\n",
       "      <th></th>\n",
       "      <th></th>\n",
       "      <th></th>\n",
       "      <th></th>\n",
       "      <th></th>\n",
       "      <th></th>\n",
       "      <th></th>\n",
       "      <th></th>\n",
       "    </tr>\n",
       "  </thead>\n",
       "  <tbody>\n",
       "    <tr>\n",
       "      <th>Norway</th>\n",
       "      <td>-1.720912</td>\n",
       "      <td>1.935996</td>\n",
       "      <td>1.921308</td>\n",
       "      <td>1.948466</td>\n",
       "      <td>1.506188</td>\n",
       "      <td>1.203577</td>\n",
       "      <td>1.038167</td>\n",
       "      <td>1.515836</td>\n",
       "      <td>0.856964</td>\n",
       "      <td>1.903084</td>\n",
       "      <td>0.856296</td>\n",
       "    </tr>\n",
       "    <tr>\n",
       "      <th>Denmark</th>\n",
       "      <td>-1.698563</td>\n",
       "      <td>1.922693</td>\n",
       "      <td>1.909902</td>\n",
       "      <td>1.933322</td>\n",
       "      <td>1.186518</td>\n",
       "      <td>1.265036</td>\n",
       "      <td>1.020812</td>\n",
       "      <td>1.452859</td>\n",
       "      <td>0.806856</td>\n",
       "      <td>2.739998</td>\n",
       "      <td>0.929891</td>\n",
       "    </tr>\n",
       "    <tr>\n",
       "      <th>Iceland</th>\n",
       "      <td>-1.676213</td>\n",
       "      <td>1.906730</td>\n",
       "      <td>1.946050</td>\n",
       "      <td>1.866469</td>\n",
       "      <td>1.182345</td>\n",
       "      <td>1.472669</td>\n",
       "      <td>1.194259</td>\n",
       "      <td>1.460590</td>\n",
       "      <td>1.702013</td>\n",
       "      <td>0.300066</td>\n",
       "      <td>0.947964</td>\n",
       "    </tr>\n",
       "    <tr>\n",
       "      <th>Switzerland</th>\n",
       "      <td>-1.653864</td>\n",
       "      <td>1.897861</td>\n",
       "      <td>1.892003</td>\n",
       "      <td>1.901741</td>\n",
       "      <td>1.383442</td>\n",
       "      <td>1.145561</td>\n",
       "      <td>1.298272</td>\n",
       "      <td>1.413155</td>\n",
       "      <td>0.325028</td>\n",
       "      <td>2.406809</td>\n",
       "      <td>0.855673</td>\n",
       "    </tr>\n",
       "    <tr>\n",
       "      <th>Finland</th>\n",
       "      <td>-1.631514</td>\n",
       "      <td>1.875689</td>\n",
       "      <td>1.861301</td>\n",
       "      <td>1.887924</td>\n",
       "      <td>1.093985</td>\n",
       "      <td>1.227057</td>\n",
       "      <td>1.091026</td>\n",
       "      <td>1.398978</td>\n",
       "      <td>-0.010426</td>\n",
       "      <td>2.560800</td>\n",
       "      <td>1.163581</td>\n",
       "    </tr>\n",
       "  </tbody>\n",
       "</table>\n",
       "</div>"
      ],
      "text/plain": [
       "             Happiness.Rank  Happiness.Score  Whisker.high  Whisker.low  \\\n",
       "Country                                                                   \n",
       "Norway            -1.720912         1.935996      1.921308     1.948466   \n",
       "Denmark           -1.698563         1.922693      1.909902     1.933322   \n",
       "Iceland           -1.676213         1.906730      1.946050     1.866469   \n",
       "Switzerland       -1.653864         1.897861      1.892003     1.901741   \n",
       "Finland           -1.631514         1.875689      1.861301     1.887924   \n",
       "\n",
       "             Economy..GDP.per.Capita.    Family  Health..Life.Expectancy.  \\\n",
       "Country                                                                     \n",
       "Norway                       1.506188  1.203577                  1.038167   \n",
       "Denmark                      1.186518  1.265036                  1.020812   \n",
       "Iceland                      1.182345  1.472669                  1.194259   \n",
       "Switzerland                  1.383442  1.145561                  1.298272   \n",
       "Finland                      1.093985  1.227057                  1.091026   \n",
       "\n",
       "              Freedom  Generosity  Trust..Government.Corruption.  \\\n",
       "Country                                                            \n",
       "Norway       1.515836    0.856964                       1.903084   \n",
       "Denmark      1.452859    0.806856                       2.739998   \n",
       "Iceland      1.460590    1.702013                       0.300066   \n",
       "Switzerland  1.413155    0.325028                       2.406809   \n",
       "Finland      1.398978   -0.010426                       2.560800   \n",
       "\n",
       "             Dystopia.Residual  \n",
       "Country                         \n",
       "Norway                0.856296  \n",
       "Denmark               0.929891  \n",
       "Iceland               0.947964  \n",
       "Switzerland           0.855673  \n",
       "Finland               1.163581  "
      ]
     },
     "execution_count": 6,
     "metadata": {},
     "output_type": "execute_result"
    }
   ],
   "source": [
    "scaled_df.head()"
   ]
  },
  {
   "cell_type": "markdown",
   "metadata": {},
   "source": [
    "### K-means clustering"
   ]
  },
  {
   "cell_type": "code",
   "execution_count": 7,
   "metadata": {
    "scrolled": true
   },
   "outputs": [
    {
     "data": {
      "text/html": [
       "<div>\n",
       "<style scoped>\n",
       "    .dataframe tbody tr th:only-of-type {\n",
       "        vertical-align: middle;\n",
       "    }\n",
       "\n",
       "    .dataframe tbody tr th {\n",
       "        vertical-align: top;\n",
       "    }\n",
       "\n",
       "    .dataframe thead th {\n",
       "        text-align: right;\n",
       "    }\n",
       "</style>\n",
       "<table border=\"1\" class=\"dataframe\">\n",
       "  <thead>\n",
       "    <tr style=\"text-align: right;\">\n",
       "      <th></th>\n",
       "      <th>Happiness.Score</th>\n",
       "      <th>Trust..Government.Corruption.</th>\n",
       "    </tr>\n",
       "    <tr>\n",
       "      <th>Country</th>\n",
       "      <th></th>\n",
       "      <th></th>\n",
       "    </tr>\n",
       "  </thead>\n",
       "  <tbody>\n",
       "    <tr>\n",
       "      <th>Norway</th>\n",
       "      <td>7.537</td>\n",
       "      <td>0.315964</td>\n",
       "    </tr>\n",
       "    <tr>\n",
       "      <th>Denmark</th>\n",
       "      <td>7.522</td>\n",
       "      <td>0.400770</td>\n",
       "    </tr>\n",
       "    <tr>\n",
       "      <th>Iceland</th>\n",
       "      <td>7.504</td>\n",
       "      <td>0.153527</td>\n",
       "    </tr>\n",
       "    <tr>\n",
       "      <th>Switzerland</th>\n",
       "      <td>7.494</td>\n",
       "      <td>0.367007</td>\n",
       "    </tr>\n",
       "    <tr>\n",
       "      <th>Finland</th>\n",
       "      <td>7.469</td>\n",
       "      <td>0.382612</td>\n",
       "    </tr>\n",
       "  </tbody>\n",
       "</table>\n",
       "</div>"
      ],
      "text/plain": [
       "             Happiness.Score  Trust..Government.Corruption.\n",
       "Country                                                    \n",
       "Norway                 7.537                       0.315964\n",
       "Denmark                7.522                       0.400770\n",
       "Iceland                7.504                       0.153527\n",
       "Switzerland            7.494                       0.367007\n",
       "Finland                7.469                       0.382612"
      ]
     },
     "execution_count": 7,
     "metadata": {},
     "output_type": "execute_result"
    }
   ],
   "source": [
    "#자의적 변수 선택\n",
    "X_df=org_df[['Happiness.Score','Trust..Government.Corruption.']]\n",
    "X_df.head()"
   ]
  },
  {
   "cell_type": "code",
   "execution_count": 8,
   "metadata": {},
   "outputs": [],
   "source": [
    "X=X_df.values"
   ]
  },
  {
   "cell_type": "code",
   "execution_count": 9,
   "metadata": {
    "scrolled": true
   },
   "outputs": [
    {
     "data": {
      "text/plain": [
       "(155, 2)"
      ]
     },
     "execution_count": 9,
     "metadata": {},
     "output_type": "execute_result"
    }
   ],
   "source": [
    "X.shape"
   ]
  },
  {
   "cell_type": "code",
   "execution_count": 10,
   "metadata": {},
   "outputs": [],
   "source": [
    "#K-means clustering\n",
    "from sklearn.cluster import KMeans\n",
    "score=[]"
   ]
  },
  {
   "cell_type": "code",
   "execution_count": 11,
   "metadata": {},
   "outputs": [],
   "source": [
    "#first assuming the number of cluster would be 10\n",
    "for i in range(1,11):\n",
    "    kmeans = KMeans(n_clusters= i, init='k-means++', random_state=0)\n",
    "    kmeans.fit(X)\n",
    "    score.append(kmeans.inertia_)"
   ]
  },
  {
   "cell_type": "code",
   "execution_count": 12,
   "metadata": {},
   "outputs": [
    {
     "data": {
      "text/plain": [
       "10"
      ]
     },
     "execution_count": 12,
     "metadata": {},
     "output_type": "execute_result"
    }
   ],
   "source": [
    "len(score)"
   ]
  },
  {
   "cell_type": "code",
   "execution_count": 16,
   "metadata": {},
   "outputs": [
    {
     "data": {
      "image/png": "[encoded data removed]",
      "text/plain": [
       "<Figure size 576x576 with 1 Axes>"
      ]
     },
     "metadata": {
      "needs_background": "light"
     },
     "output_type": "display_data"
    }
   ],
   "source": [
    "import matplotlib.pyplot as plt\n",
    "#Visualizing the ELBOW method to get the optimal value of K \n",
    "plt.figure(figsize=(8, 8))\n",
    "plt.plot(range(1,11), score)\n",
    "plt.title('The Elbow Method')\n",
    "plt.xlabel('# of clusters')\n",
    "plt.ylabel('wcss')\n",
    "plt.show()"
   ]
  },
  {
   "cell_type": "code",
   "execution_count": 14,
   "metadata": {},
   "outputs": [],
   "source": [
    "#Model Built on selecting number of cluster as 3 based on the Elbow Method\n",
    "kmeansmodel = KMeans(n_clusters= 3, init='k-means++', random_state=0)\n",
    "y_kmeans= kmeansmodel.fit_predict(X)"
   ]
  },
  {
   "cell_type": "code",
   "execution_count": 15,
   "metadata": {},
   "outputs": [
    {
     "data": {
      "image/png": "[encoded data removed]",
      "text/plain": [
       "<Figure size 864x864 with 1 Axes>"
      ]
     },
     "metadata": {
      "needs_background": "light"
     },
     "output_type": "display_data"
    }
   ],
   "source": [
    "#Visualizing all the clusters \n",
    "plt.figure(figsize=(12, 12))\n",
    "plt.scatter(X[y_kmeans == 0, 0], X[y_kmeans == 0, 1], s = 100, c = 'blue', label = 'High state')\n",
    "plt.scatter(X[y_kmeans == 1, 0], X[y_kmeans == 1, 1], s = 100, c = 'green', label = 'Mid state')\n",
    "plt.scatter(X[y_kmeans == 2, 0], X[y_kmeans == 2, 1], s = 100, c = 'red', label = 'Low state')\n",
    "\n",
    "plt.title('Clusters of countries')\n",
    "plt.xlabel('Happiness Score')\n",
    "plt.ylabel('Trust on Government')\n",
    "plt.legend()\n",
    "plt.show()\n"
   ]
  },
  {
   "cell_type": "markdown",
   "metadata": {},
   "source": [
    "#### - Clustering의 결과, Happiness Score의 수준에 따라 Low, Mid, High로 세 가지 군집들이 형성되었다. \n",
    "#### - 그래프상으로 살펴보았을때, Happiness Score에 따른 세 군집들 모두 Trust on Government에 넓게 퍼져 있다. 즉, 행복 지수에 따라 분류된 세 군집 내에서 모두 정부 신뢰 지수의 분산이 큰 편이다.\n",
    "#### - 주요하게 살펴볼 점은, Happiness Score가 Low state에서 High state로 갈수록 Trust on Government 가 높은 국가가 더 많아진다는 것이다. 즉, 행복 지수가 낮은 군집, 중간 군집에서는 정부 신뢰 지수가 낮은 국가가 많고, 행복 지수가 높은 국가 군집에서 정부 신뢰 지수가 높은 국가가 더 많았다.\n",
    "#### - 하지만 행복 지수가 낮은 국가 군집에서도 정부에 대한 신뢰가 높은 국가(Outlier)가 존재한다.\n",
    "#### - 결론적으로, 국가 행복 지수가 높을 수록 정부에 대한 국민의 신뢰가 높은 경향을 보인다."
   ]
  }
 ],
 "metadata": {
  "kernelspec": {
   "display_name": "Python 3",
   "language": "python",
   "name": "python3"
  },
  "language_info": {
   "codemirror_mode": {
    "name": "ipython",
    "version": 3
   },
   "file_extension": ".py",
   "mimetype": "text/x-python",
   "name": "python",
   "nbconvert_exporter": "python",
   "pygments_lexer": "ipython3",
   "version": "3.7.3"
  }
 },
 "nbformat": 4,
 "nbformat_minor": 2
}
