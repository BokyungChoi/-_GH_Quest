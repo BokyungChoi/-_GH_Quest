{
 "cells": [
  {
   "cell_type": "markdown",
   "metadata": {},
   "source": [
    "Question1\n",
    "======"
   ]
  },
  {
   "cell_type": "markdown",
   "metadata": {},
   "source": [
    "### 1_데이터 정리 \n"
   ]
  },
  {
   "cell_type": "code",
   "execution_count": 1,
   "metadata": {},
   "outputs": [],
   "source": [
    "import os\n",
    "import pandas as pd\n",
    "import numpy as np\n",
    "import matplotlib as plt"
   ]
  },
  {
   "cell_type": "code",
   "execution_count": 2,
   "metadata": {},
   "outputs": [],
   "source": [
    "os.chdir(r\"C:\\Users\\최보경\\Desktop\\2019SN\\GrowthHackers\\Education\\Session Slides\\Session 04. 파이썬 라이브러리 활용 기초\\데이터셋\")"
   ]
  },
  {
   "cell_type": "code",
   "execution_count": 3,
   "metadata": {},
   "outputs": [],
   "source": [
    "cctv_df=pd.read_csv(\"CCTV_in_Seoul.csv\")\n",
    "pop_df=pd.read_excel(\"population_in_Seoul.xls\",header=2, usecols = 'B, D, G, J, N', encoding='utf-8')"
   ]
  },
  {
   "cell_type": "code",
   "execution_count": 4,
   "metadata": {},
   "outputs": [
    {
     "data": {
      "text/html": [
       "<div>\n",
       "<style scoped>\n",
       "    .dataframe tbody tr th:only-of-type {\n",
       "        vertical-align: middle;\n",
       "    }\n",
       "\n",
       "    .dataframe tbody tr th {\n",
       "        vertical-align: top;\n",
       "    }\n",
       "\n",
       "    .dataframe thead th {\n",
       "        text-align: right;\n",
       "    }\n",
       "</style>\n",
       "<table border=\"1\" class=\"dataframe\">\n",
       "  <thead>\n",
       "    <tr style=\"text-align: right;\">\n",
       "      <th></th>\n",
       "      <th>기관명</th>\n",
       "      <th>소계</th>\n",
       "      <th>2013년도 이전</th>\n",
       "      <th>2014년</th>\n",
       "      <th>2015년</th>\n",
       "      <th>2016년</th>\n",
       "    </tr>\n",
       "  </thead>\n",
       "  <tbody>\n",
       "    <tr>\n",
       "      <th>0</th>\n",
       "      <td>강남구</td>\n",
       "      <td>3238</td>\n",
       "      <td>1292</td>\n",
       "      <td>430</td>\n",
       "      <td>584</td>\n",
       "      <td>932</td>\n",
       "    </tr>\n",
       "    <tr>\n",
       "      <th>1</th>\n",
       "      <td>강동구</td>\n",
       "      <td>1010</td>\n",
       "      <td>379</td>\n",
       "      <td>99</td>\n",
       "      <td>155</td>\n",
       "      <td>377</td>\n",
       "    </tr>\n",
       "    <tr>\n",
       "      <th>2</th>\n",
       "      <td>강북구</td>\n",
       "      <td>831</td>\n",
       "      <td>369</td>\n",
       "      <td>120</td>\n",
       "      <td>138</td>\n",
       "      <td>204</td>\n",
       "    </tr>\n",
       "    <tr>\n",
       "      <th>3</th>\n",
       "      <td>강서구</td>\n",
       "      <td>911</td>\n",
       "      <td>388</td>\n",
       "      <td>258</td>\n",
       "      <td>184</td>\n",
       "      <td>81</td>\n",
       "    </tr>\n",
       "    <tr>\n",
       "      <th>4</th>\n",
       "      <td>관악구</td>\n",
       "      <td>2109</td>\n",
       "      <td>846</td>\n",
       "      <td>260</td>\n",
       "      <td>390</td>\n",
       "      <td>613</td>\n",
       "    </tr>\n",
       "  </tbody>\n",
       "</table>\n",
       "</div>"
      ],
      "text/plain": [
       "   기관명    소계  2013년도 이전  2014년  2015년  2016년\n",
       "0  강남구  3238       1292    430    584    932\n",
       "1  강동구  1010        379     99    155    377\n",
       "2  강북구   831        369    120    138    204\n",
       "3  강서구   911        388    258    184     81\n",
       "4  관악구  2109        846    260    390    613"
      ]
     },
     "execution_count": 4,
     "metadata": {},
     "output_type": "execute_result"
    }
   ],
   "source": [
    "#cctv_df 오름차순 정렬\n",
    "cctv_df.sort_values(by = '소계', ascending = True)\n",
    "cctv_df.reset_index(drop=True,inplace=True)\n",
    "cctv_df.head()"
   ]
  },
  {
   "cell_type": "code",
   "execution_count": 5,
   "metadata": {},
   "outputs": [
    {
     "data": {
      "text/html": [
       "<div>\n",
       "<style scoped>\n",
       "    .dataframe tbody tr th:only-of-type {\n",
       "        vertical-align: middle;\n",
       "    }\n",
       "\n",
       "    .dataframe tbody tr th {\n",
       "        vertical-align: top;\n",
       "    }\n",
       "\n",
       "    .dataframe thead th {\n",
       "        text-align: right;\n",
       "    }\n",
       "</style>\n",
       "<table border=\"1\" class=\"dataframe\">\n",
       "  <thead>\n",
       "    <tr style=\"text-align: right;\">\n",
       "      <th></th>\n",
       "      <th>기관명</th>\n",
       "      <th>소계</th>\n",
       "      <th>2013년도 이전</th>\n",
       "      <th>2014년</th>\n",
       "      <th>2015년</th>\n",
       "      <th>2016년</th>\n",
       "      <th>최근증가율</th>\n",
       "    </tr>\n",
       "  </thead>\n",
       "  <tbody>\n",
       "    <tr>\n",
       "      <th>22</th>\n",
       "      <td>종로구</td>\n",
       "      <td>1619</td>\n",
       "      <td>464</td>\n",
       "      <td>314</td>\n",
       "      <td>211</td>\n",
       "      <td>630</td>\n",
       "      <td>248.922414</td>\n",
       "    </tr>\n",
       "    <tr>\n",
       "      <th>9</th>\n",
       "      <td>도봉구</td>\n",
       "      <td>825</td>\n",
       "      <td>238</td>\n",
       "      <td>159</td>\n",
       "      <td>42</td>\n",
       "      <td>386</td>\n",
       "      <td>246.638655</td>\n",
       "    </tr>\n",
       "    <tr>\n",
       "      <th>12</th>\n",
       "      <td>마포구</td>\n",
       "      <td>980</td>\n",
       "      <td>314</td>\n",
       "      <td>118</td>\n",
       "      <td>169</td>\n",
       "      <td>379</td>\n",
       "      <td>212.101911</td>\n",
       "    </tr>\n",
       "    <tr>\n",
       "      <th>8</th>\n",
       "      <td>노원구</td>\n",
       "      <td>1566</td>\n",
       "      <td>542</td>\n",
       "      <td>57</td>\n",
       "      <td>451</td>\n",
       "      <td>516</td>\n",
       "      <td>188.929889</td>\n",
       "    </tr>\n",
       "    <tr>\n",
       "      <th>1</th>\n",
       "      <td>강동구</td>\n",
       "      <td>1010</td>\n",
       "      <td>379</td>\n",
       "      <td>99</td>\n",
       "      <td>155</td>\n",
       "      <td>377</td>\n",
       "      <td>166.490765</td>\n",
       "    </tr>\n",
       "  </tbody>\n",
       "</table>\n",
       "</div>"
      ],
      "text/plain": [
       "    기관명    소계  2013년도 이전  2014년  2015년  2016년       최근증가율\n",
       "22  종로구  1619        464    314    211    630  248.922414\n",
       "9   도봉구   825        238    159     42    386  246.638655\n",
       "12  마포구   980        314    118    169    379  212.101911\n",
       "8   노원구  1566        542     57    451    516  188.929889\n",
       "1   강동구  1010        379     99    155    377  166.490765"
      ]
     },
     "execution_count": 5,
     "metadata": {},
     "output_type": "execute_result"
    }
   ],
   "source": [
    "#최근증가율 컬럼 생성\n",
    "cctv_df['최근증가율']=(cctv_df['2016년']+cctv_df['2015년']+cctv_df['2014년'])/cctv_df['2013년도 이전']*100\n",
    "#최근증가율 컬럼을 기준으로 내림차순 정렬\n",
    "cctv_df.sort_values(by = '최근증가율', ascending = False).head()"
   ]
  },
  {
   "cell_type": "code",
   "execution_count": 6,
   "metadata": {},
   "outputs": [],
   "source": [
    "#불필요 컬럼 삭제\n",
    "del cctv_df[\"2013년도 이전\"]\n",
    "del cctv_df[\"2014년\"]\n",
    "del cctv_df[\"2015년\"]\n",
    "del cctv_df[\"2016년\"]\n",
    "#컬럼 이름 변경\n",
    "cctv_df.rename(columns = {cctv_df.columns[0]:'구별'},inplace=True)"
   ]
  },
  {
   "cell_type": "code",
   "execution_count": 7,
   "metadata": {
    "scrolled": true
   },
   "outputs": [
    {
     "data": {
      "text/html": [
       "<div>\n",
       "<style scoped>\n",
       "    .dataframe tbody tr th:only-of-type {\n",
       "        vertical-align: middle;\n",
       "    }\n",
       "\n",
       "    .dataframe tbody tr th {\n",
       "        vertical-align: top;\n",
       "    }\n",
       "\n",
       "    .dataframe thead th {\n",
       "        text-align: right;\n",
       "    }\n",
       "</style>\n",
       "<table border=\"1\" class=\"dataframe\">\n",
       "  <thead>\n",
       "    <tr style=\"text-align: right;\">\n",
       "      <th></th>\n",
       "      <th>구별</th>\n",
       "      <th>소계</th>\n",
       "      <th>최근증가율</th>\n",
       "    </tr>\n",
       "  </thead>\n",
       "  <tbody>\n",
       "    <tr>\n",
       "      <th>0</th>\n",
       "      <td>강남구</td>\n",
       "      <td>3238</td>\n",
       "      <td>150.619195</td>\n",
       "    </tr>\n",
       "    <tr>\n",
       "      <th>1</th>\n",
       "      <td>강동구</td>\n",
       "      <td>1010</td>\n",
       "      <td>166.490765</td>\n",
       "    </tr>\n",
       "    <tr>\n",
       "      <th>2</th>\n",
       "      <td>강북구</td>\n",
       "      <td>831</td>\n",
       "      <td>125.203252</td>\n",
       "    </tr>\n",
       "    <tr>\n",
       "      <th>3</th>\n",
       "      <td>강서구</td>\n",
       "      <td>911</td>\n",
       "      <td>134.793814</td>\n",
       "    </tr>\n",
       "    <tr>\n",
       "      <th>4</th>\n",
       "      <td>관악구</td>\n",
       "      <td>2109</td>\n",
       "      <td>149.290780</td>\n",
       "    </tr>\n",
       "  </tbody>\n",
       "</table>\n",
       "</div>"
      ],
      "text/plain": [
       "    구별    소계       최근증가율\n",
       "0  강남구  3238  150.619195\n",
       "1  강동구  1010  166.490765\n",
       "2  강북구   831  125.203252\n",
       "3  강서구   911  134.793814\n",
       "4  관악구  2109  149.290780"
      ]
     },
     "execution_count": 7,
     "metadata": {},
     "output_type": "execute_result"
    }
   ],
   "source": [
    "#cctv완료\n",
    "cctv_df.head()"
   ]
  },
  {
   "cell_type": "code",
   "execution_count": 8,
   "metadata": {},
   "outputs": [],
   "source": [
    "#pop_df 합계 행의 삭제\n",
    "pop_df.drop([0],inplace=True)"
   ]
  },
  {
   "cell_type": "code",
   "execution_count": 9,
   "metadata": {},
   "outputs": [
    {
     "data": {
      "text/html": [
       "<div>\n",
       "<style scoped>\n",
       "    .dataframe tbody tr th:only-of-type {\n",
       "        vertical-align: middle;\n",
       "    }\n",
       "\n",
       "    .dataframe tbody tr th {\n",
       "        vertical-align: top;\n",
       "    }\n",
       "\n",
       "    .dataframe thead th {\n",
       "        text-align: right;\n",
       "    }\n",
       "</style>\n",
       "<table border=\"1\" class=\"dataframe\">\n",
       "  <thead>\n",
       "    <tr style=\"text-align: right;\">\n",
       "      <th></th>\n",
       "      <th>구별</th>\n",
       "      <th>인구수</th>\n",
       "      <th>한국인</th>\n",
       "      <th>외국인</th>\n",
       "      <th>고령자</th>\n",
       "      <th>외국인비율</th>\n",
       "      <th>고령자비율</th>\n",
       "    </tr>\n",
       "  </thead>\n",
       "  <tbody>\n",
       "    <tr>\n",
       "      <th>0</th>\n",
       "      <td>종로구</td>\n",
       "      <td>163026</td>\n",
       "      <td>153065</td>\n",
       "      <td>9961</td>\n",
       "      <td>26742</td>\n",
       "      <td>6.110068</td>\n",
       "      <td>16.403518</td>\n",
       "    </tr>\n",
       "    <tr>\n",
       "      <th>1</th>\n",
       "      <td>중구</td>\n",
       "      <td>135633</td>\n",
       "      <td>125725</td>\n",
       "      <td>9908</td>\n",
       "      <td>22005</td>\n",
       "      <td>7.305007</td>\n",
       "      <td>16.223928</td>\n",
       "    </tr>\n",
       "    <tr>\n",
       "      <th>2</th>\n",
       "      <td>용산구</td>\n",
       "      <td>245090</td>\n",
       "      <td>228999</td>\n",
       "      <td>16091</td>\n",
       "      <td>37640</td>\n",
       "      <td>6.565343</td>\n",
       "      <td>15.357624</td>\n",
       "    </tr>\n",
       "    <tr>\n",
       "      <th>3</th>\n",
       "      <td>성동구</td>\n",
       "      <td>316463</td>\n",
       "      <td>308221</td>\n",
       "      <td>8242</td>\n",
       "      <td>42767</td>\n",
       "      <td>2.604412</td>\n",
       "      <td>13.514060</td>\n",
       "    </tr>\n",
       "    <tr>\n",
       "      <th>4</th>\n",
       "      <td>광진구</td>\n",
       "      <td>371063</td>\n",
       "      <td>355559</td>\n",
       "      <td>15504</td>\n",
       "      <td>45619</td>\n",
       "      <td>4.178266</td>\n",
       "      <td>12.294139</td>\n",
       "    </tr>\n",
       "  </tbody>\n",
       "</table>\n",
       "</div>"
      ],
      "text/plain": [
       "    구별     인구수     한국인    외국인    고령자     외국인비율      고령자비율\n",
       "0  종로구  163026  153065   9961  26742  6.110068  16.403518\n",
       "1   중구  135633  125725   9908  22005  7.305007  16.223928\n",
       "2  용산구  245090  228999  16091  37640  6.565343  15.357624\n",
       "3  성동구  316463  308221   8242  42767  2.604412  13.514060\n",
       "4  광진구  371063  355559  15504  45619  4.178266  12.294139"
      ]
     },
     "execution_count": 9,
     "metadata": {},
     "output_type": "execute_result"
    }
   ],
   "source": [
    "#컬럼 이름 정리\n",
    "pop_df.rename(columns = {pop_df.columns[0]:'구별',pop_df.columns[1]:'인구수',\n",
    "                           pop_df.columns[2]:'한국인',pop_df.columns[3]:'외국인'\n",
    "                           ,pop_df.columns[4]:'고령자'},inplace=True)\n",
    "#인덱스 리셋\n",
    "pop_df.reset_index(drop=True,inplace=True)\n",
    "#비율 컬럼 생성\n",
    "pop_df['외국인비율']=pop_df['외국인']/pop_df['인구수']*100\n",
    "pop_df['고령자비율']=pop_df['고령자']/pop_df['인구수']*100\n",
    "pop_df.head()"
   ]
  },
  {
   "cell_type": "code",
   "execution_count": 10,
   "metadata": {},
   "outputs": [
    {
     "data": {
      "text/plain": [
       "구별        object\n",
       "인구수        int64\n",
       "한국인        int64\n",
       "외국인        int64\n",
       "고령자        int64\n",
       "외국인비율    float64\n",
       "고령자비율    float64\n",
       "dtype: object"
      ]
     },
     "execution_count": 10,
     "metadata": {},
     "output_type": "execute_result"
    }
   ],
   "source": [
    "pop_df.dtypes"
   ]
  },
  {
   "cell_type": "code",
   "execution_count": 11,
   "metadata": {},
   "outputs": [
    {
     "data": {
      "text/html": [
       "<div>\n",
       "<style scoped>\n",
       "    .dataframe tbody tr th:only-of-type {\n",
       "        vertical-align: middle;\n",
       "    }\n",
       "\n",
       "    .dataframe tbody tr th {\n",
       "        vertical-align: top;\n",
       "    }\n",
       "\n",
       "    .dataframe thead th {\n",
       "        text-align: right;\n",
       "    }\n",
       "</style>\n",
       "<table border=\"1\" class=\"dataframe\">\n",
       "  <thead>\n",
       "    <tr style=\"text-align: right;\">\n",
       "      <th></th>\n",
       "      <th>구별</th>\n",
       "      <th>소계</th>\n",
       "      <th>최근증가율</th>\n",
       "      <th>인구수</th>\n",
       "      <th>한국인</th>\n",
       "      <th>외국인</th>\n",
       "      <th>고령자</th>\n",
       "      <th>외국인비율</th>\n",
       "      <th>고령자비율</th>\n",
       "    </tr>\n",
       "  </thead>\n",
       "  <tbody>\n",
       "    <tr>\n",
       "      <th>0</th>\n",
       "      <td>강남구</td>\n",
       "      <td>3238</td>\n",
       "      <td>150.619195</td>\n",
       "      <td>547453</td>\n",
       "      <td>542364</td>\n",
       "      <td>5089</td>\n",
       "      <td>67085</td>\n",
       "      <td>0.929578</td>\n",
       "      <td>12.254020</td>\n",
       "    </tr>\n",
       "    <tr>\n",
       "      <th>1</th>\n",
       "      <td>강동구</td>\n",
       "      <td>1010</td>\n",
       "      <td>166.490765</td>\n",
       "      <td>431920</td>\n",
       "      <td>427573</td>\n",
       "      <td>4347</td>\n",
       "      <td>58770</td>\n",
       "      <td>1.006436</td>\n",
       "      <td>13.606686</td>\n",
       "    </tr>\n",
       "    <tr>\n",
       "      <th>2</th>\n",
       "      <td>강북구</td>\n",
       "      <td>831</td>\n",
       "      <td>125.203252</td>\n",
       "      <td>322915</td>\n",
       "      <td>319164</td>\n",
       "      <td>3751</td>\n",
       "      <td>58196</td>\n",
       "      <td>1.161606</td>\n",
       "      <td>18.022080</td>\n",
       "    </tr>\n",
       "    <tr>\n",
       "      <th>3</th>\n",
       "      <td>강서구</td>\n",
       "      <td>911</td>\n",
       "      <td>134.793814</td>\n",
       "      <td>603611</td>\n",
       "      <td>596949</td>\n",
       "      <td>6662</td>\n",
       "      <td>79660</td>\n",
       "      <td>1.103691</td>\n",
       "      <td>13.197241</td>\n",
       "    </tr>\n",
       "    <tr>\n",
       "      <th>4</th>\n",
       "      <td>관악구</td>\n",
       "      <td>2109</td>\n",
       "      <td>149.290780</td>\n",
       "      <td>520040</td>\n",
       "      <td>501957</td>\n",
       "      <td>18083</td>\n",
       "      <td>72249</td>\n",
       "      <td>3.477233</td>\n",
       "      <td>13.892970</td>\n",
       "    </tr>\n",
       "  </tbody>\n",
       "</table>\n",
       "</div>"
      ],
      "text/plain": [
       "    구별    소계       최근증가율     인구수     한국인    외국인    고령자     외국인비율      고령자비율\n",
       "0  강남구  3238  150.619195  547453  542364   5089  67085  0.929578  12.254020\n",
       "1  강동구  1010  166.490765  431920  427573   4347  58770  1.006436  13.606686\n",
       "2  강북구   831  125.203252  322915  319164   3751  58196  1.161606  18.022080\n",
       "3  강서구   911  134.793814  603611  596949   6662  79660  1.103691  13.197241\n",
       "4  관악구  2109  149.290780  520040  501957  18083  72249  3.477233  13.892970"
      ]
     },
     "execution_count": 11,
     "metadata": {},
     "output_type": "execute_result"
    }
   ],
   "source": [
    "#cctv_df 와 pop_df merge\n",
    "data_result=pd.merge(cctv_df,pop_df,on='구별')\n",
    "data_result.head()"
   ]
  },
  {
   "cell_type": "markdown",
   "metadata": {},
   "source": [
    "### 2_PYPLOT 회귀직선"
   ]
  },
  {
   "cell_type": "code",
   "execution_count": 12,
   "metadata": {},
   "outputs": [],
   "source": [
    "import matplotlib.pyplot as plt #matplotlib 한글 처리해주는 과정\n",
    "import platform                 \n",
    "\n",
    "from matplotlib import font_manager, rc\n",
    "plt.rcParams['axes.unicode_minus']= False\n",
    "\n",
    "if platform.system() == 'Windows':#윈도우 사용자\n",
    "    path = 'c:/Windows/Fonts/malgun.ttf'\n",
    "    font_name = font_manager.FontProperties(fname=path).get_name()\n",
    "    rc('font', family=font_name)"
   ]
  },
  {
   "cell_type": "code",
   "execution_count": 13,
   "metadata": {},
   "outputs": [
    {
     "data": {
      "text/plain": [
       "array([1.07336946e-03, 1.08384235e+03])"
      ]
     },
     "execution_count": 13,
     "metadata": {},
     "output_type": "execute_result"
    }
   ],
   "source": [
    "#회귀 직선 만들기\n",
    "fp1=np.polyfit(data_result['인구수'],data_result['소계'],1)\n",
    "fp1"
   ]
  },
  {
   "cell_type": "code",
   "execution_count": 14,
   "metadata": {},
   "outputs": [
    {
     "data": {
      "text/plain": [
       "poly1d([1.07336946e-03, 1.08384235e+03])"
      ]
     },
     "execution_count": 14,
     "metadata": {},
     "output_type": "execute_result"
    }
   ],
   "source": [
    "f1=np.poly1d(fp1)\n",
    "f1"
   ]
  },
  {
   "cell_type": "code",
   "execution_count": 15,
   "metadata": {},
   "outputs": [],
   "source": [
    "fx1=data_result['인구수']\n",
    "data_result['오차']=np.abs(data_result['소계']-f1(fx1))"
   ]
  },
  {
   "cell_type": "code",
   "execution_count": 16,
   "metadata": {},
   "outputs": [],
   "source": [
    "#인덱스 세팅\n",
    "data_result.set_index('구별',drop=True,inplace=True)\n",
    "#오차를 기준으로 내림차순 정렬\n",
    "data_result.sort_values(by='오차',inplace=True,ascending=False)"
   ]
  },
  {
   "cell_type": "code",
   "execution_count": 17,
   "metadata": {},
   "outputs": [
    {
     "data": {
      "text/html": [
       "<div>\n",
       "<style scoped>\n",
       "    .dataframe tbody tr th:only-of-type {\n",
       "        vertical-align: middle;\n",
       "    }\n",
       "\n",
       "    .dataframe tbody tr th {\n",
       "        vertical-align: top;\n",
       "    }\n",
       "\n",
       "    .dataframe thead th {\n",
       "        text-align: right;\n",
       "    }\n",
       "</style>\n",
       "<table border=\"1\" class=\"dataframe\">\n",
       "  <thead>\n",
       "    <tr style=\"text-align: right;\">\n",
       "      <th></th>\n",
       "      <th>소계</th>\n",
       "      <th>최근증가율</th>\n",
       "      <th>인구수</th>\n",
       "      <th>한국인</th>\n",
       "      <th>외국인</th>\n",
       "      <th>고령자</th>\n",
       "      <th>외국인비율</th>\n",
       "      <th>고령자비율</th>\n",
       "      <th>오차</th>\n",
       "    </tr>\n",
       "    <tr>\n",
       "      <th>구별</th>\n",
       "      <th></th>\n",
       "      <th></th>\n",
       "      <th></th>\n",
       "      <th></th>\n",
       "      <th></th>\n",
       "      <th></th>\n",
       "      <th></th>\n",
       "      <th></th>\n",
       "      <th></th>\n",
       "    </tr>\n",
       "  </thead>\n",
       "  <tbody>\n",
       "    <tr>\n",
       "      <th>강남구</th>\n",
       "      <td>3238</td>\n",
       "      <td>150.619195</td>\n",
       "      <td>547453</td>\n",
       "      <td>542364</td>\n",
       "      <td>5089</td>\n",
       "      <td>67085</td>\n",
       "      <td>0.929578</td>\n",
       "      <td>12.254020</td>\n",
       "      <td>1566.538319</td>\n",
       "    </tr>\n",
       "    <tr>\n",
       "      <th>양천구</th>\n",
       "      <td>2482</td>\n",
       "      <td>34.671731</td>\n",
       "      <td>468145</td>\n",
       "      <td>464185</td>\n",
       "      <td>3960</td>\n",
       "      <td>58045</td>\n",
       "      <td>0.845892</td>\n",
       "      <td>12.398936</td>\n",
       "      <td>895.665104</td>\n",
       "    </tr>\n",
       "    <tr>\n",
       "      <th>강서구</th>\n",
       "      <td>911</td>\n",
       "      <td>134.793814</td>\n",
       "      <td>603611</td>\n",
       "      <td>596949</td>\n",
       "      <td>6662</td>\n",
       "      <td>79660</td>\n",
       "      <td>1.103691</td>\n",
       "      <td>13.197241</td>\n",
       "      <td>820.739963</td>\n",
       "    </tr>\n",
       "    <tr>\n",
       "      <th>용산구</th>\n",
       "      <td>2096</td>\n",
       "      <td>53.216374</td>\n",
       "      <td>245090</td>\n",
       "      <td>228999</td>\n",
       "      <td>16091</td>\n",
       "      <td>37640</td>\n",
       "      <td>6.565343</td>\n",
       "      <td>15.357624</td>\n",
       "      <td>749.085528</td>\n",
       "    </tr>\n",
       "    <tr>\n",
       "      <th>서초구</th>\n",
       "      <td>2297</td>\n",
       "      <td>63.371266</td>\n",
       "      <td>438163</td>\n",
       "      <td>433951</td>\n",
       "      <td>4212</td>\n",
       "      <td>54751</td>\n",
       "      <td>0.961286</td>\n",
       "      <td>12.495578</td>\n",
       "      <td>742.846867</td>\n",
       "    </tr>\n",
       "  </tbody>\n",
       "</table>\n",
       "</div>"
      ],
      "text/plain": [
       "       소계       최근증가율     인구수     한국인    외국인    고령자     외국인비율      고령자비율  \\\n",
       "구별                                                                         \n",
       "강남구  3238  150.619195  547453  542364   5089  67085  0.929578  12.254020   \n",
       "양천구  2482   34.671731  468145  464185   3960  58045  0.845892  12.398936   \n",
       "강서구   911  134.793814  603611  596949   6662  79660  1.103691  13.197241   \n",
       "용산구  2096   53.216374  245090  228999  16091  37640  6.565343  15.357624   \n",
       "서초구  2297   63.371266  438163  433951   4212  54751  0.961286  12.495578   \n",
       "\n",
       "              오차  \n",
       "구별                \n",
       "강남구  1566.538319  \n",
       "양천구   895.665104  \n",
       "강서구   820.739963  \n",
       "용산구   749.085528  \n",
       "서초구   742.846867  "
      ]
     },
     "execution_count": 17,
     "metadata": {},
     "output_type": "execute_result"
    }
   ],
   "source": [
    "#결과\n",
    "data_result.head()"
   ]
  },
  {
   "cell_type": "markdown",
   "metadata": {},
   "source": [
    "Question 2\n",
    "======="
   ]
  },
  {
   "cell_type": "markdown",
   "metadata": {},
   "source": [
    "### 1_MATPLOTLIB 시각화"
   ]
  },
  {
   "cell_type": "code",
   "execution_count": 18,
   "metadata": {},
   "outputs": [],
   "source": [
    "#오차기준 상위5개 구와 하위 5개 구 label 리스트 준비\n",
    "top_list=list(data_result['오차'].head(5).index)\n",
    "tail_list=list(data_result['오차'].tail(5).index)"
   ]
  },
  {
   "cell_type": "code",
   "execution_count": 19,
   "metadata": {},
   "outputs": [
    {
     "data": {
      "image/png": "[encoded data removed]",
      "text/plain": [
       "<matplotlib.figure.Figure at 0x1fde093ef28>"
      ]
     },
     "metadata": {
      "needs_background": "light"
     },
     "output_type": "display_data"
    }
   ],
   "source": [
    "#plt.scatter and line\n",
    "fx2=np.linspace(100000, 700000, 100)\n",
    "\n",
    "plt.figure(figsize=(10,8))\n",
    "plt.scatter(data_result['인구수'],data_result['소계'],c=data_result['오차'].values,s=30)\n",
    "plt.plot(fx2, f1(fx2), ls='--', lw=3, color ='g')\n",
    "plt.xlabel('인구수')\n",
    "plt.ylabel('인구당비율')\n",
    "plt.grid()\n",
    "\n",
    "#plt.text\n",
    "for i in top_list:\n",
    "    plt.text(data_result.at[i,'인구수'],data_result.at[i,'소계'],i)\n",
    "for i in tail_list:\n",
    "    plt.text(data_result.at[i,'인구수'],data_result.at[i,'소계'],i)\n",
    "\n",
    "#plt.colormap\n",
    "plt.colorbar()\n",
    "\n",
    "plt.show()"
   ]
  },
  {
   "cell_type": "markdown",
   "metadata": {},
   "source": [
    "### 2_시사점\n",
    "####  위 그래프를 통해 살펴본 바 강남구, 양천구, 서초구, 용산구, 강서구가 높은 오차를 보였다. 반면 금천구, 성북구, 성동구, 서대문구, 노원구는 낮은 오차를 보였다. 일반적으로 회귀직선과 각 데이터포인트간의 오차가 큰 편이므로 구별 인구수와 CCTV 수는 약한 상관관계를 가진다는 것을 확인할 수 있다. "
   ]
  }
 ],
 "metadata": {
  "kernelspec": {
   "display_name": "Python 3",
   "language": "python",
   "name": "python3"
  },
  "language_info": {
   "codemirror_mode": {
    "name": "ipython",
    "version": 3
   },
   "file_extension": ".py",
   "mimetype": "text/x-python",
   "name": "python",
   "nbconvert_exporter": "python",
   "pygments_lexer": "ipython3",
   "version": "3.6.4"
  }
 },
 "nbformat": 4,
 "nbformat_minor": 2
}
